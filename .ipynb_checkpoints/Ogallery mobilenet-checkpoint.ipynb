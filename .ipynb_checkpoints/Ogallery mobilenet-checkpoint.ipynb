{
 "cells": [
  {
   "cell_type": "markdown",
   "id": "84f69b69",
   "metadata": {},
   "source": [
    "## packages\n"
   ]
  },
  {
   "cell_type": "code",
   "execution_count": null,
   "id": "c1be9598",
   "metadata": {},
   "outputs": [],
   "source": [
    "import matplotlib.pyplot as plt\n",
    "import numpy as np\n",
    "import pandas as pd\n",
    "import os\n",
    "import tensorflow as tf\n",
    "import tensorflow.keras.layers as tfl\n",
    "\n",
    "from tensorflow.keras.preprocessing import image_dataset_from_directory\n",
    "from tensorflow.keras.layers.experimental.preprocessing import RandomFlip, RandomRotation"
   ]
  },
  {
   "cell_type": "markdown",
   "id": "2968611f",
   "metadata": {},
   "source": [
    "## Data exploration"
   ]
  },
  {
   "cell_type": "code",
   "execution_count": null,
   "id": "a7be49d5",
   "metadata": {},
   "outputs": [],
   "source": [
    "directory = \"./Ogallery_dataset\"\n",
    "from Data import Data\n",
    "data=Data(directory)"
   ]
  },
  {
   "cell_type": "code",
   "execution_count": null,
   "id": "76eaff26",
   "metadata": {},
   "outputs": [],
   "source": [
    "data.summary()"
   ]
  },
  {
   "cell_type": "code",
   "execution_count": null,
   "id": "f0293779",
   "metadata": {},
   "outputs": [],
   "source": [
    "data.show(1,4)"
   ]
  },
  {
   "cell_type": "code",
   "execution_count": null,
   "id": "b6b8d61a",
   "metadata": {},
   "outputs": [],
   "source": [
    "BATCH_SIZE = 32\n",
    "IMG_SIZE = (160, 160)\n",
    "(train_dataset,validation_dataset) = image_dataset_from_directory(directory,\n",
    "                                             shuffle=True,\n",
    "                                             label_mode='categorical',\n",
    "                                             batch_size=BATCH_SIZE,\n",
    "                                             image_size=IMG_SIZE,\n",
    "                                             validation_split=0.2,\n",
    "                                             subset='both',\n",
    "                                             seed=42)\n"
   ]
  },
  {
   "cell_type": "markdown",
   "id": "5dc1ed23",
   "metadata": {},
   "source": [
    "## Preprocessing"
   ]
  },
  {
   "cell_type": "code",
   "execution_count": null,
   "id": "eacb5da2",
   "metadata": {},
   "outputs": [],
   "source": [
    "AUTOTUNE = tf.data.experimental.AUTOTUNE\n",
    "train_dataset = train_dataset.prefetch(buffer_size=AUTOTUNE)\n",
    "preprocess_input = tf.keras.applications.mobilenet_v2.preprocess_input"
   ]
  },
  {
   "cell_type": "code",
   "execution_count": null,
   "id": "03d3a678",
   "metadata": {},
   "outputs": [],
   "source": [
    "preprocess_input()"
   ]
  },
  {
   "cell_type": "code",
   "execution_count": null,
   "id": "afac70af",
   "metadata": {},
   "outputs": [],
   "source": []
  },
  {
   "cell_type": "code",
   "execution_count": null,
   "id": "a6af0159",
   "metadata": {},
   "outputs": [],
   "source": [
    "IMG_SHAPE = IMG_SIZE + (3,)\n",
    "base_model = tf.keras.applications.MobileNetV2(input_shape=IMG_SHAPE,\n",
    "                                               include_top=False,\n",
    "                                               weights='imagenet')\n",
    "base_model.trainable = True\n",
    "fine_tune_at = 120\n",
    "\n",
    "#freeze \n",
    "for layer in base_model.layers[:fine_tune_at]:\n",
    "    layer.trainable = False\n",
    "    \n",
    "\n",
    "inputs = tf.keras.Input(shape=IMG_SHAPE) \n",
    "x = preprocess_input(inputs) \n",
    "x = base_model(x) \n",
    "x = tf.keras.layers.GlobalAveragePooling2D()(x) \n",
    "x = tfl.Dropout(.2)(x)\n",
    "outputs = tf.keras.layers.Dense(15,activation=\"softmax\")(x)\n",
    "\n",
    "model = tf.keras.Model(inputs, outputs)\n",
    "\n",
    "model.compile(optimizer=tf.keras.optimizers.Adam(learning_rate=4e-5),\n",
    "              loss=tf.keras.losses.CategoricalCrossentropy(),\n",
    "              metrics=['accuracy'])\n",
    "\n"
   ]
  },
  {
   "cell_type": "code",
   "execution_count": null,
   "id": "ca613f68",
   "metadata": {},
   "outputs": [],
   "source": [
    "model.summary()"
   ]
  },
  {
   "cell_type": "code",
   "execution_count": null,
   "id": "50e7eea5",
   "metadata": {},
   "outputs": [],
   "source": [
    "model_fit = model.fit(train_dataset, validation_data=validation_dataset, epochs=15)"
   ]
  },
  {
   "cell_type": "code",
   "execution_count": null,
   "id": "bead27ef",
   "metadata": {},
   "outputs": [],
   "source": [
    "from pathlib import Path\n",
    "import imghdr\n",
    "import os\n",
    "for dir_name in os.listdir(\"./Ogallery_dataset/\"):\n",
    "    data_dir=\"./Ogallery_dataset/\"+dir_name\n",
    "    image_extensions = [\".png\", \".jpg\",\"jpeg\"]  # add there all your images file extensions\n",
    "\n",
    "    img_type_accepted_by_tf = [\"bmp\", \"gif\", \"jpeg\", \"png\",\"jpg\"]\n",
    "    for filepath in Path(data_dir).rglob(\"*\"):\n",
    "        if filepath.suffix.lower() in image_extensions:\n",
    "            img_type = imghdr.what(filepath)\n",
    "            if img_type is None:\n",
    "                print(f\"{filepath} is not an image\")\n",
    "                os.system(f\"rm {filepath}\")\n",
    "            elif img_type not in img_type_accepted_by_tf:\n",
    "                print(f\"{filepath} is a {img_type}, not accepted by TensorFlow\")\n",
    "                os.system(f\"rm {filepath}\")"
   ]
  },
  {
   "cell_type": "code",
   "execution_count": null,
   "id": "13da4e65",
   "metadata": {},
   "outputs": [],
   "source": []
  },
  {
   "cell_type": "code",
   "execution_count": null,
   "id": "21dc47b1",
   "metadata": {},
   "outputs": [],
   "source": []
  },
  {
   "cell_type": "code",
   "execution_count": null,
   "id": "85bf4867",
   "metadata": {},
   "outputs": [],
   "source": [
    "pd.DataFrame(model_fit.history).plot(figsize=(12,8))\n",
    "plt.grid(True)\n",
    "plt.show()"
   ]
  },
  {
   "cell_type": "code",
   "execution_count": null,
   "id": "1afff4f4",
   "metadata": {},
   "outputs": [],
   "source": [
    "model.save(\"ogalleryv1.h5\")"
   ]
  },
  {
   "cell_type": "code",
   "execution_count": null,
   "id": "38c13b87",
   "metadata": {},
   "outputs": [],
   "source": [
    "model.save(\"ogalleryv1\")"
   ]
  },
  {
   "cell_type": "code",
   "execution_count": null,
   "id": "bf010bb9",
   "metadata": {},
   "outputs": [],
   "source": [
    "from tensorflow import keras\n",
    "savedModel = keras.models.load_model(\"ogalleryv1.h5\")"
   ]
  },
  {
   "cell_type": "code",
   "execution_count": null,
   "id": "98e8c2ab",
   "metadata": {},
   "outputs": [],
   "source": [
    "#sorted(os.listdir(\"./Ogallery_dataset/\"))"
   ]
  },
  {
   "cell_type": "code",
   "execution_count": 25,
   "id": "17f675d3",
   "metadata": {},
   "outputs": [],
   "source": [
    "from PIL import Image,ImageFont\n",
    "import numpy as np\n",
    "from skimage import transform\n",
    "def predict(filename):\n",
    "    classes=['bicycle','boat','building','bus','car','forest',\n",
    "             'glacier','helicopter','motorcycle', 'mountain',\n",
    "             'plane','sea','street','train','truck']\n",
    "    np_image = Image.open(filename)\n",
    "    np_image = np.array(np_image).astype('float32')\n",
    "    np_image = transform.resize(np_image, (160, 160, 3))\n",
    "    np_image = np.expand_dims(np_image, axis=0)\n",
    "    pn=np.argmax(savedModel.predict(np_image))\n",
    "    conf=np.max(savedModel.predict(np_image))\n",
    "    p=classes[pn]\n",
    "    if conf>.60:\n",
    "        return p\n",
    "    else:\n",
    "        return None\n",
    "\n"
   ]
  },
  {
   "cell_type": "code",
   "execution_count": null,
   "id": "6c925f74",
   "metadata": {},
   "outputs": [],
   "source": []
  },
  {
   "cell_type": "code",
   "execution_count": null,
   "id": "1e257cd7",
   "metadata": {},
   "outputs": [],
   "source": [
    "x=predict('spotmini-1200x630.jpg')"
   ]
  },
  {
   "cell_type": "code",
   "execution_count": null,
   "id": "cf8790fc",
   "metadata": {},
   "outputs": [],
   "source": [
    "from MobileNet import Model\n"
   ]
  },
  {
   "cell_type": "code",
   "execution_count": null,
   "id": "b1de1b4e",
   "metadata": {},
   "outputs": [],
   "source": []
  },
  {
   "cell_type": "code",
   "execution_count": null,
   "id": "a7f4b193",
   "metadata": {},
   "outputs": [],
   "source": [
    "model=Model('First_F-35_headed_for_USAF_service.jpg',.60)"
   ]
  },
  {
   "cell_type": "code",
   "execution_count": null,
   "id": "92de2e57",
   "metadata": {},
   "outputs": [],
   "source": [
    "s=model.predict()"
   ]
  },
  {
   "cell_type": "code",
   "execution_count": null,
   "id": "4662b42d",
   "metadata": {},
   "outputs": [],
   "source": [
    "print(s)"
   ]
  },
  {
   "cell_type": "code",
   "execution_count": 87,
   "id": "609a3fd1",
   "metadata": {},
   "outputs": [],
   "source": []
  },
  {
   "cell_type": "code",
   "execution_count": null,
   "id": "3101f259",
   "metadata": {},
   "outputs": [],
   "source": []
  },
  {
   "cell_type": "code",
   "execution_count": null,
   "id": "84ede384",
   "metadata": {},
   "outputs": [],
   "source": []
  },
  {
   "cell_type": "code",
   "execution_count": null,
   "id": "73160f2e",
   "metadata": {},
   "outputs": [],
   "source": []
  },
  {
   "cell_type": "code",
   "execution_count": null,
   "id": "f14a62d6",
   "metadata": {},
   "outputs": [],
   "source": []
  },
  {
   "cell_type": "code",
   "execution_count": null,
   "id": "0e377077",
   "metadata": {},
   "outputs": [],
   "source": []
  },
  {
   "cell_type": "code",
   "execution_count": null,
   "id": "474c2c41",
   "metadata": {},
   "outputs": [],
   "source": []
  },
  {
   "cell_type": "code",
   "execution_count": null,
   "id": "b17b4792",
   "metadata": {},
   "outputs": [],
   "source": []
  },
  {
   "cell_type": "code",
   "execution_count": 203,
   "id": "74071518",
   "metadata": {},
   "outputs": [
    {
     "name": "stdout",
     "output_type": "stream",
     "text": [
      "Downloaded image 0\n",
      "Downloaded image 1\n",
      "Downloaded image 2\n",
      "Downloaded image 3\n",
      "Downloaded image 4\n",
      "Downloaded image 5\n",
      "Downloaded image 6\n",
      "Downloaded image 7\n",
      "Downloaded image 8\n",
      "Downloaded image 9\n",
      "Downloaded image 10\n",
      "Downloaded image 11\n",
      "Downloaded image 12\n",
      "Downloaded image 13\n",
      "Downloaded image 14\n",
      "Downloaded image 15\n",
      "Downloaded image 16\n",
      "Downloaded image 17\n",
      "Downloaded image 18\n",
      "Downloaded image 19\n",
      "Downloaded image 20\n",
      "Downloaded image 21\n",
      "Downloaded image 22\n",
      "Downloaded image 23\n",
      "Downloaded image 24\n",
      "Downloaded image 25\n",
      "Downloaded image 26\n",
      "Downloaded image 27\n",
      "Downloaded image 28\n",
      "Downloaded image 29\n",
      "Downloaded image 30\n",
      "Downloaded image 31\n",
      "Downloaded image 32\n",
      "Downloaded image 33\n",
      "Downloaded image 34\n",
      "Downloaded image 35\n",
      "Downloaded image 36\n",
      "Downloaded image 37\n",
      "Downloaded image 38\n",
      "Downloaded image 39\n",
      "Downloaded image 40\n",
      "Downloaded image 41\n",
      "Downloaded image 42\n",
      "Downloaded image 43\n",
      "Downloaded image 44\n",
      "Downloaded image 45\n",
      "Downloaded image 46\n",
      "Downloaded image 47\n",
      "Downloaded image 48\n",
      "Downloaded image 49\n",
      "Downloaded image 50\n",
      "Downloaded image 51\n",
      "Downloaded image 52\n",
      "Downloaded image 53\n",
      "Downloaded image 54\n",
      "Downloaded image 55\n",
      "Downloaded image 56\n",
      "Downloaded image 57\n",
      "Downloaded image 58\n",
      "Downloaded image 59\n",
      "Downloaded image 60\n",
      "Downloaded image 61\n",
      "Downloaded image 62\n",
      "Downloaded image 63\n",
      "Downloaded image 64\n",
      "Downloaded image 65\n",
      "Downloaded image 66\n",
      "Downloaded image 67\n",
      "Downloaded image 68\n",
      "Downloaded image 69\n",
      "Downloaded image 70\n",
      "Downloaded image 71\n",
      "Downloaded image 72\n",
      "Downloaded image 73\n",
      "Downloaded image 74\n",
      "Downloaded image 75\n",
      "Downloaded image 76\n",
      "Downloaded image 77\n",
      "Downloaded image 78\n",
      "Downloaded image 79\n",
      "Downloaded image 80\n",
      "Downloaded image 81\n",
      "Downloaded image 82\n",
      "Downloaded image 83\n",
      "Downloaded image 84\n",
      "Downloaded image 85\n",
      "Downloaded image 86\n",
      "Downloaded image 87\n",
      "Downloaded image 88\n",
      "Downloaded image 89\n",
      "Downloaded image 90\n",
      "Downloaded image 91\n",
      "Downloaded image 92\n",
      "Downloaded image 93\n",
      "Downloaded image 94\n",
      "Downloaded image 95\n",
      "Downloaded image 96\n",
      "Downloaded image 97\n",
      "Downloaded image 98\n",
      "Downloaded image 99\n",
      "Downloaded image 100\n",
      "Downloaded image 101\n",
      "Downloaded image 102\n",
      "Downloaded image 103\n",
      "Downloaded image 104\n",
      "Downloaded image 105\n",
      "Downloaded image 106\n",
      "Downloaded image 107\n",
      "Downloaded image 108\n",
      "Downloaded image 109\n",
      "Downloaded image 110\n",
      "Downloaded image 111\n",
      "Downloaded image 112\n",
      "Downloaded image 113\n",
      "Downloaded image 114\n",
      "Downloaded image 115\n",
      "Downloaded image 116\n",
      "Downloaded image 117\n",
      "Downloaded image 118\n",
      "Downloaded image 119\n",
      "Downloaded image 120\n",
      "Downloaded image 121\n",
      "Downloaded image 122\n",
      "Downloaded image 123\n",
      "Downloaded image 124\n",
      "Downloaded image 125\n",
      "Downloaded image 126\n",
      "Downloaded image 127\n",
      "Downloaded image 128\n",
      "Downloaded image 129\n",
      "Downloaded image 130\n",
      "Downloaded image 131\n",
      "Downloaded image 132\n",
      "Downloaded image 133\n",
      "Downloaded image 134\n",
      "Downloaded image 135\n",
      "Downloaded image 136\n",
      "Downloaded image 137\n",
      "Downloaded image 138\n",
      "Downloaded image 139\n",
      "Downloaded image 140\n",
      "Downloaded image 141\n",
      "Downloaded image 142\n",
      "Downloaded image 143\n",
      "Downloaded image 144\n",
      "Downloaded image 145\n",
      "Downloaded image 146\n",
      "Downloaded image 147\n",
      "Downloaded image 148\n",
      "Downloaded image 149\n",
      "Downloaded image 150\n",
      "Downloaded image 151\n",
      "Downloaded image 152\n",
      "Downloaded image 153\n",
      "Downloaded image 154\n",
      "Downloaded image 155\n",
      "Downloaded image 156\n",
      "Downloaded image 157\n",
      "Downloaded image 158\n",
      "Downloaded image 159\n",
      "Downloaded image 160\n",
      "Downloaded image 161\n",
      "Downloaded image 162\n",
      "Downloaded image 163\n",
      "Downloaded image 164\n",
      "Downloaded image 165\n",
      "Downloaded image 166\n",
      "Downloaded image 167\n",
      "Downloaded image 168\n",
      "Downloaded image 169\n",
      "Downloaded image 170\n",
      "Downloaded image 171\n",
      "Downloaded image 172\n",
      "Downloaded image 173\n",
      "Downloaded image 174\n",
      "Downloaded image 175\n",
      "Downloaded image 176\n",
      "Downloaded image 177\n",
      "Downloaded image 178\n",
      "Downloaded image 179\n",
      "Downloaded image 180\n",
      "Downloaded image 181\n",
      "Downloaded image 182\n",
      "Downloaded image 183\n",
      "Downloaded image 184\n",
      "Downloaded image 185\n",
      "Downloaded image 186\n",
      "Downloaded image 187\n",
      "Downloaded image 188\n",
      "Downloaded image 189\n",
      "Downloaded image 190\n",
      "Downloaded image 191\n",
      "Downloaded image 192\n",
      "Downloaded image 193\n",
      "Downloaded image 194\n",
      "Downloaded image 195\n",
      "Downloaded image 196\n",
      "Downloaded image 197\n",
      "Downloaded image 198\n",
      "Downloaded image 199\n",
      "Downloaded image 200\n",
      "Downloaded image 201\n",
      "Downloaded image 202\n",
      "Downloaded image 203\n",
      "Downloaded image 204\n",
      "Downloaded image 205\n",
      "Downloaded image 206\n",
      "Downloaded image 207\n",
      "Downloaded image 208\n",
      "Downloaded image 209\n",
      "Download complete\n"
     ]
    }
   ],
   "source": [
    "import requests\n",
    "from PIL import Image\n",
    "from io import BytesIO\n",
    "\n",
    "# Number of images to download\n",
    "num_images = 210\n",
    "\n",
    "url = \"https://thispersondoesnotexist.com/\"\n",
    "\n",
    "# Headers to mimic a browser request\n",
    "headers = {\n",
    "    \"User-Agent\": \"Mozilla/5.0 (Windows NT 10.0; Win64; x64) AppleWebKit/537.36 (KHTML, like Gecko) Chrome/58.0.3029.110 Safari/537.3\"\n",
    "}\n",
    "\n",
    "# Path to save the images\n",
    "save_path = \"../images/\"\n",
    "\n",
    "# Loop to download images\n",
    "for i in range(num_images):\n",
    "    # Send a GET request to the website\n",
    "    response = requests.get(url, headers=headers)\n",
    "    \n",
    "    # Check if the request was successful\n",
    "    if response.status_code == 200:\n",
    "        # Create an image from the response content\n",
    "        image = Image.open(BytesIO(response.content))\n",
    "        \n",
    "        # Save the image\n",
    "        image.save(save_path + f\"image_{i}.jpg\")\n",
    "        print(f\"Downloaded image {i}\")\n",
    "    else:\n",
    "        print(f\"Failed to download image {i}\")\n",
    "\n",
    "print(\"Download complete\")\n"
   ]
  },
  {
   "cell_type": "code",
   "execution_count": null,
   "id": "343e2948",
   "metadata": {},
   "outputs": [],
   "source": []
  },
  {
   "cell_type": "code",
   "execution_count": null,
   "id": "ac05233b",
   "metadata": {},
   "outputs": [],
   "source": []
  }
 ],
 "metadata": {
  "kernelspec": {
   "display_name": "Python 3 (ipykernel)",
   "language": "python",
   "name": "python3"
  },
  "language_info": {
   "codemirror_mode": {
    "name": "ipython",
    "version": 3
   },
   "file_extension": ".py",
   "mimetype": "text/x-python",
   "name": "python",
   "nbconvert_exporter": "python",
   "pygments_lexer": "ipython3",
   "version": "3.9.7"
  }
 },
 "nbformat": 4,
 "nbformat_minor": 5
}
