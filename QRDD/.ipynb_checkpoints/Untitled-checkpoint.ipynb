{
 "cells": [
  {
   "cell_type": "code",
   "execution_count": 1,
   "id": "c85f494a-488c-4651-8d23-d8c49500c68c",
   "metadata": {},
   "outputs": [],
   "source": [
    "import os\n",
    "import glob as glob\n",
    "import matplotlib.pyplot as plt\n",
    "import cv2\n",
    "import requests"
   ]
  },
  {
   "cell_type": "markdown",
   "id": "9ad72276-e372-4bd2-b7d2-647e81e1fbf8",
   "metadata": {},
   "source": [
    "if not os.path.exists('yolov5'):\n",
    "    !git clone https://github.com/ultralytics/yolov5.git\n",
    "%cd yolov5/\n",
    "!pip install -r requirements.txt"
   ]
  },
  {
   "cell_type": "code",
   "execution_count": null,
   "id": "a51a76d5-462a-4213-807c-23d68a626ce2",
   "metadata": {},
   "outputs": [],
   "source": []
  },
  {
   "cell_type": "code",
   "execution_count": 7,
   "id": "6b71e442-4957-471a-a02d-b60f8d530a82",
   "metadata": {},
   "outputs": [
    {
     "name": "stderr",
     "output_type": "stream",
     "text": [
      "YOLOv5 🚀 v7.0-295-gac6c4383 Python-3.11.7 torch-2.2.2+cu121 CPU\n",
      "\n",
      "Fusing layers... \n",
      "Model summary: 157 layers, 1760518 parameters, 0 gradients, 4.1 GFLOPs\n",
      "Adding AutoShape... \n"
     ]
    }
   ],
   "source": [
    "\n",
    "import torch\n",
    "import cv2\n",
    "import time\n",
    "model = torch.hub.load('yolov5/','custom', path='yolov5/best.pt', source='local')  # local repo\n",
    "model.conf = 0.7 \n"
   ]
  },
  {
   "cell_type": "code",
   "execution_count": 8,
   "id": "45fb7598-e4eb-45cf-a349-c708ce9d725b",
   "metadata": {},
   "outputs": [],
   "source": [
    "img=cv2.imread('yolov5/inference_images/2.jpeg')"
   ]
  },
  {
   "cell_type": "code",
   "execution_count": 9,
   "id": "596d2023-a079-4f01-8e4d-e5bfd957a77f",
   "metadata": {},
   "outputs": [
    {
     "name": "stdout",
     "output_type": "stream",
     "text": [
      "0.31415486335754395\n"
     ]
    }
   ],
   "source": [
    "st=time.time()\n",
    "result=model(img)\n",
    "print(time.time()-st)"
   ]
  },
  {
   "cell_type": "code",
   "execution_count": null,
   "id": "994c415c-2023-4224-8d6e-f8f9e1cf1e31",
   "metadata": {},
   "outputs": [],
   "source": []
  },
  {
   "cell_type": "code",
   "execution_count": 10,
   "id": "7e075be1-6798-4099-8af0-2d4a6844ce0e",
   "metadata": {},
   "outputs": [],
   "source": [
    "result=model(img).pandas().xyxy[0]"
   ]
  },
  {
   "cell_type": "code",
   "execution_count": 11,
   "id": "773ea862-15a2-468f-829a-a59e4b6d941b",
   "metadata": {},
   "outputs": [
    {
     "data": {
      "text/html": [
       "<div>\n",
       "<style scoped>\n",
       "    .dataframe tbody tr th:only-of-type {\n",
       "        vertical-align: middle;\n",
       "    }\n",
       "\n",
       "    .dataframe tbody tr th {\n",
       "        vertical-align: top;\n",
       "    }\n",
       "\n",
       "    .dataframe thead th {\n",
       "        text-align: right;\n",
       "    }\n",
       "</style>\n",
       "<table border=\"1\" class=\"dataframe\">\n",
       "  <thead>\n",
       "    <tr style=\"text-align: right;\">\n",
       "      <th></th>\n",
       "      <th>xmin</th>\n",
       "      <th>ymin</th>\n",
       "      <th>xmax</th>\n",
       "      <th>ymax</th>\n",
       "      <th>confidence</th>\n",
       "      <th>class</th>\n",
       "      <th>name</th>\n",
       "    </tr>\n",
       "  </thead>\n",
       "  <tbody>\n",
       "    <tr>\n",
       "      <th>0</th>\n",
       "      <td>942.150757</td>\n",
       "      <td>841.759827</td>\n",
       "      <td>1084.521362</td>\n",
       "      <td>989.292236</td>\n",
       "      <td>0.898848</td>\n",
       "      <td>0</td>\n",
       "      <td>qr_code</td>\n",
       "    </tr>\n",
       "  </tbody>\n",
       "</table>\n",
       "</div>"
      ],
      "text/plain": [
       "         xmin        ymin         xmax        ymax  confidence  class     name\n",
       "0  942.150757  841.759827  1084.521362  989.292236    0.898848      0  qr_code"
      ]
     },
     "execution_count": 11,
     "metadata": {},
     "output_type": "execute_result"
    }
   ],
   "source": [
    "result"
   ]
  },
  {
   "cell_type": "code",
   "execution_count": null,
   "id": "ab934441-71fb-440a-8bdf-2ed1f32e14a4",
   "metadata": {},
   "outputs": [],
   "source": []
  },
  {
   "cell_type": "code",
   "execution_count": null,
   "id": "4e61df32-65a3-4e79-811b-d779207fb7f7",
   "metadata": {},
   "outputs": [],
   "source": []
  },
  {
   "cell_type": "code",
   "execution_count": null,
   "id": "c158c436-345c-4e3c-ad38-e766f07e02ba",
   "metadata": {},
   "outputs": [],
   "source": []
  },
  {
   "cell_type": "code",
   "execution_count": 19,
   "id": "b72cec53-f01a-48d0-a8e8-67b3219d29c4",
   "metadata": {},
   "outputs": [],
   "source": [
    "from pyzbar.pyzbar import decode\n",
    "from PIL import Image\n",
    "from pyzbar.pyzbar import decode\n",
    "\n"
   ]
  },
  {
   "cell_type": "code",
   "execution_count": 23,
   "id": "c032b8c7-76df-42ab-a573-0158560f74e8",
   "metadata": {},
   "outputs": [
    {
     "data": {
      "text/plain": [
       "[Decoded(data=b'https://www.synapse-analytics.io/careers?utm_source=GUC%20Employment%20Fair&utm_medium=Rollup%20Banner&utm_campaign=QR%20Code', type='QRCODE', rect=Rect(left=1, top=6, width=139, height=137), polygon=[Point(x=1, y=143), Point(x=134, y=141), Point(x=140, y=6), Point(x=5, y=7)], quality=1, orientation='UP')]"
      ]
     },
     "execution_count": 23,
     "metadata": {},
     "output_type": "execute_result"
    }
   ],
   "source": [
    "decode(Image.fromarray(img[int(result.ymin[0]):int(result.ymax[0]),int(result.xmin[0]):int(result.xmax[0])]))"
   ]
  },
  {
   "cell_type": "code",
   "execution_count": 56,
   "id": "9accd5a7-fb25-4085-afb4-b14aa513ac4b",
   "metadata": {},
   "outputs": [
    {
     "data": {
      "text/plain": [
       "'https://www.synapse-analytics.io/careers?utm_source=GUC%20Employment%20Fair&utm_medium=Rollup%20Banner&utm_campaign=QR%20Code'"
      ]
     },
     "execution_count": 56,
     "metadata": {},
     "output_type": "execute_result"
    }
   ],
   "source": [
    "from pyzbar.pyzbar import decode\n",
    "from PIL import Image\n",
    "decode(Image.open('yolov5/inference_images/2.jpeg'))[0].data.decode()"
   ]
  },
  {
   "cell_type": "code",
   "execution_count": null,
   "id": "084bca1a-c0aa-49db-9c60-94d5e8f886db",
   "metadata": {},
   "outputs": [],
   "source": []
  },
  {
   "cell_type": "code",
   "execution_count": null,
   "id": "4c8e8ee4-bdb3-4364-bd1b-68bddeef8765",
   "metadata": {},
   "outputs": [],
   "source": []
  }
 ],
 "metadata": {
  "kernelspec": {
   "display_name": "Python 3 (ipykernel)",
   "language": "python",
   "name": "python3"
  },
  "language_info": {
   "codemirror_mode": {
    "name": "ipython",
    "version": 3
   },
   "file_extension": ".py",
   "mimetype": "text/x-python",
   "name": "python",
   "nbconvert_exporter": "python",
   "pygments_lexer": "ipython3",
   "version": "3.11.7"
  },
  "widgets": {
   "application/vnd.jupyter.widget-state+json": {
    "state": {},
    "version_major": 2,
    "version_minor": 0
   }
  }
 },
 "nbformat": 4,
 "nbformat_minor": 5
}
