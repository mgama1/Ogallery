{
 "cells": [
  {
   "cell_type": "code",
   "execution_count": null,
   "id": "30cf2e5e",
   "metadata": {},
   "outputs": [],
   "source": []
  },
  {
   "cell_type": "code",
   "execution_count": null,
   "id": "3a50c158",
   "metadata": {},
   "outputs": [],
   "source": []
  },
  {
   "cell_type": "code",
   "execution_count": null,
   "id": "6b0a308c",
   "metadata": {},
   "outputs": [],
   "source": []
  },
  {
   "cell_type": "code",
   "execution_count": null,
   "id": "0ddbe377",
   "metadata": {
    "scrolled": true
   },
   "outputs": [],
   "source": []
  },
  {
   "cell_type": "code",
   "execution_count": null,
   "id": "7767118d",
   "metadata": {
    "scrolled": false
   },
   "outputs": [],
   "source": []
  },
  {
   "cell_type": "code",
   "execution_count": null,
   "id": "f99de396",
   "metadata": {},
   "outputs": [],
   "source": []
  },
  {
   "cell_type": "code",
   "execution_count": null,
   "id": "73723e77",
   "metadata": {},
   "outputs": [],
   "source": []
  },
  {
   "cell_type": "code",
   "execution_count": null,
   "id": "c3d39bdf",
   "metadata": {},
   "outputs": [],
   "source": []
  },
  {
   "cell_type": "code",
   "execution_count": null,
   "id": "3e47463b",
   "metadata": {},
   "outputs": [],
   "source": []
  },
  {
   "cell_type": "code",
   "execution_count": null,
   "id": "cbc95bf8",
   "metadata": {},
   "outputs": [],
   "source": []
  },
  {
   "cell_type": "code",
   "execution_count": null,
   "id": "a7a2d5bc",
   "metadata": {},
   "outputs": [],
   "source": []
  },
  {
   "cell_type": "code",
   "execution_count": null,
   "id": "d04cd546",
   "metadata": {},
   "outputs": [],
   "source": []
  },
  {
   "cell_type": "code",
   "execution_count": null,
   "id": "266bed70",
   "metadata": {},
   "outputs": [],
   "source": []
  },
  {
   "cell_type": "code",
   "execution_count": null,
   "id": "148c201a",
   "metadata": {},
   "outputs": [],
   "source": []
  },
  {
   "cell_type": "code",
   "execution_count": null,
   "id": "eaf73686",
   "metadata": {},
   "outputs": [],
   "source": []
  },
  {
   "cell_type": "code",
   "execution_count": 50,
   "id": "9ec18bba",
   "metadata": {},
   "outputs": [
    {
     "name": "stdout",
     "output_type": "stream",
     "text": [
      "Received: 42\n"
     ]
    }
   ],
   "source": [
    "from PyQt5.QtCore import QObject, pyqtSignal\n",
    "\n",
    "class MyObject(QObject):\n",
    "    my_signal = pyqtSignal(int)\n",
    "\n",
    "    def some_method(self):\n",
    "        # Emitting the signal with a string and an integer argument\n",
    "        self.my_signal.emit(42)\n",
    "\n",
    "# Usage\n",
    "obj = MyObject()\n",
    "obj.my_signal.connect(lambda i: print(f\"Received: {i}\"))\n",
    "obj.some_method()\n"
   ]
  },
  {
   "cell_type": "code",
   "execution_count": null,
   "id": "34c5f5b4",
   "metadata": {},
   "outputs": [],
   "source": []
  },
  {
   "cell_type": "code",
   "execution_count": null,
   "id": "c790c529",
   "metadata": {},
   "outputs": [],
   "source": []
  },
  {
   "cell_type": "code",
   "execution_count": null,
   "id": "87ded10d",
   "metadata": {},
   "outputs": [],
   "source": []
  },
  {
   "cell_type": "code",
   "execution_count": null,
   "id": "3988d3d3",
   "metadata": {},
   "outputs": [],
   "source": []
  },
  {
   "cell_type": "code",
   "execution_count": null,
   "id": "7b9caa3d",
   "metadata": {},
   "outputs": [],
   "source": []
  },
  {
   "cell_type": "code",
   "execution_count": null,
   "id": "cd8317c9",
   "metadata": {},
   "outputs": [],
   "source": []
  },
  {
   "cell_type": "code",
   "execution_count": null,
   "id": "5e1dba48",
   "metadata": {},
   "outputs": [],
   "source": []
  },
  {
   "cell_type": "code",
   "execution_count": null,
   "id": "bbf01960",
   "metadata": {
    "scrolled": true
   },
   "outputs": [],
   "source": []
  },
  {
   "cell_type": "code",
   "execution_count": null,
   "id": "82d23fa6",
   "metadata": {},
   "outputs": [],
   "source": []
  },
  {
   "cell_type": "code",
   "execution_count": null,
   "id": "0d7b669d",
   "metadata": {},
   "outputs": [],
   "source": []
  },
  {
   "cell_type": "code",
   "execution_count": null,
   "id": "6e229877",
   "metadata": {},
   "outputs": [],
   "source": []
  },
  {
   "cell_type": "code",
   "execution_count": null,
   "id": "bb54e9fe",
   "metadata": {},
   "outputs": [],
   "source": []
  },
  {
   "cell_type": "code",
   "execution_count": null,
   "id": "74a92192",
   "metadata": {},
   "outputs": [],
   "source": []
  },
  {
   "cell_type": "code",
   "execution_count": null,
   "id": "03b2dc29",
   "metadata": {},
   "outputs": [],
   "source": []
  },
  {
   "cell_type": "code",
   "execution_count": null,
   "id": "d9d55914",
   "metadata": {},
   "outputs": [],
   "source": []
  },
  {
   "cell_type": "code",
   "execution_count": null,
   "id": "3b9cc0e7",
   "metadata": {},
   "outputs": [],
   "source": []
  },
  {
   "cell_type": "code",
   "execution_count": null,
   "id": "c3743955",
   "metadata": {},
   "outputs": [],
   "source": []
  },
  {
   "cell_type": "code",
   "execution_count": null,
   "id": "41a17a3b",
   "metadata": {},
   "outputs": [],
   "source": []
  },
  {
   "cell_type": "code",
   "execution_count": null,
   "id": "d00cbeaa",
   "metadata": {},
   "outputs": [],
   "source": [
    "#fix error: qt.gui.icc: fromIccProfile: failed minimal tag size sanity\n",
    "#stackoverflow Q 65463848\n",
    "#careful as better monitors are capable of color space better that sRGB \n",
    "#and converting all images into sRGB may take away from color ranges\n",
    "#make it go through 1 pass while classifying images\n",
    "import io\n",
    "from PIL import Image, ImageCms\n",
    "\n",
    "def convert_to_srgb(file_path):\n",
    "    \"\"\"\n",
    "    Convert PIL image to sRGB color space (if possible)\n",
    "    and save the converted file.\n",
    "    \"\"\"\n",
    "    img = Image.open(file_path)\n",
    "    icc = img.info.get('icc_profile', '')\n",
    "    icc_conv = ''\n",
    "\n",
    "    if icc:\n",
    "        io_handle = io.BytesIO(icc)     # virtual file\n",
    "        src_profile = ImageCms.ImageCmsProfile(io_handle)\n",
    "        dst_profile = ImageCms.createProfile('sRGB')\n",
    "        img_conv = ImageCms.profileToProfile(img, src_profile, dst_profile)\n",
    "        icc_conv = img_conv.info.get('icc_profile','')\n",
    "\n",
    "    if icc != icc_conv:\n",
    "        # ICC profile was changed -> save converted file\n",
    "        img_conv.save(file_path,\n",
    "                    format = 'JPEG',\n",
    "                    quality = 100,\n",
    "                    icc_profile = icc_conv)\n",
    "        \n",
    "files=glob.glob(f\"/media/mgama1/mgama1/photos/**/*.jpeg\",recursive=True)\n",
    "for file in files:\n",
    "    convert_to_srgb(file)"
   ]
  },
  {
   "cell_type": "code",
   "execution_count": null,
   "id": "996cb421",
   "metadata": {},
   "outputs": [],
   "source": [
    "!qta-browser"
   ]
  },
  {
   "cell_type": "code",
   "execution_count": null,
   "id": "05bec1b9",
   "metadata": {},
   "outputs": [],
   "source": [
    "\n"
   ]
  },
  {
   "cell_type": "code",
   "execution_count": null,
   "id": "94f7f7be",
   "metadata": {},
   "outputs": [],
   "source": []
  },
  {
   "cell_type": "code",
   "execution_count": null,
   "id": "992923db",
   "metadata": {},
   "outputs": [],
   "source": []
  },
  {
   "cell_type": "code",
   "execution_count": null,
   "id": "454c699e",
   "metadata": {},
   "outputs": [],
   "source": []
  },
  {
   "cell_type": "code",
   "execution_count": null,
   "id": "893e9fa2",
   "metadata": {},
   "outputs": [],
   "source": []
  },
  {
   "cell_type": "code",
   "execution_count": null,
   "id": "9da74eb3",
   "metadata": {},
   "outputs": [],
   "source": []
  },
  {
   "cell_type": "code",
   "execution_count": null,
   "id": "599579da",
   "metadata": {},
   "outputs": [],
   "source": []
  },
  {
   "cell_type": "code",
   "execution_count": null,
   "id": "4ef315e2",
   "metadata": {},
   "outputs": [],
   "source": []
  },
  {
   "cell_type": "code",
   "execution_count": null,
   "id": "dbd09483",
   "metadata": {},
   "outputs": [],
   "source": []
  },
  {
   "cell_type": "code",
   "execution_count": null,
   "id": "fa83e5ba",
   "metadata": {},
   "outputs": [],
   "source": []
  },
  {
   "cell_type": "code",
   "execution_count": null,
   "id": "677677a7",
   "metadata": {},
   "outputs": [],
   "source": []
  },
  {
   "cell_type": "code",
   "execution_count": null,
   "id": "f20bde4b",
   "metadata": {},
   "outputs": [],
   "source": []
  },
  {
   "cell_type": "code",
   "execution_count": null,
   "id": "64e38526",
   "metadata": {},
   "outputs": [],
   "source": []
  },
  {
   "cell_type": "code",
   "execution_count": null,
   "id": "876bc1d4",
   "metadata": {},
   "outputs": [],
   "source": []
  },
  {
   "cell_type": "code",
   "execution_count": null,
   "id": "5765ebe2",
   "metadata": {},
   "outputs": [],
   "source": []
  },
  {
   "cell_type": "code",
   "execution_count": null,
   "id": "17fa7232",
   "metadata": {},
   "outputs": [],
   "source": []
  },
  {
   "cell_type": "code",
   "execution_count": 24,
   "id": "9d158a48",
   "metadata": {},
   "outputs": [],
   "source": []
  },
  {
   "cell_type": "code",
   "execution_count": 39,
   "id": "cbc5ddfd",
   "metadata": {},
   "outputs": [],
   "source": []
  },
  {
   "cell_type": "code",
   "execution_count": null,
   "id": "051e7b66",
   "metadata": {},
   "outputs": [],
   "source": []
  },
  {
   "cell_type": "code",
   "execution_count": null,
   "id": "ec6a4bdf",
   "metadata": {},
   "outputs": [],
   "source": []
  },
  {
   "cell_type": "code",
   "execution_count": null,
   "id": "2bfbd5fa",
   "metadata": {},
   "outputs": [],
   "source": []
  },
  {
   "cell_type": "code",
   "execution_count": null,
   "id": "4e3168dd",
   "metadata": {},
   "outputs": [],
   "source": []
  },
  {
   "cell_type": "code",
   "execution_count": null,
   "id": "40017186",
   "metadata": {},
   "outputs": [],
   "source": []
  },
  {
   "cell_type": "code",
   "execution_count": null,
   "id": "98569417",
   "metadata": {},
   "outputs": [],
   "source": []
  },
  {
   "cell_type": "code",
   "execution_count": null,
   "id": "47e168b4",
   "metadata": {},
   "outputs": [],
   "source": []
  },
  {
   "cell_type": "code",
   "execution_count": null,
   "id": "cde1c0cc",
   "metadata": {},
   "outputs": [],
   "source": []
  },
  {
   "cell_type": "code",
   "execution_count": null,
   "id": "bc84d4ec",
   "metadata": {},
   "outputs": [],
   "source": []
  },
  {
   "cell_type": "markdown",
   "id": "2fc4cff7",
   "metadata": {},
   "source": [
    "# no lazy loading no thumbnail"
   ]
  },
  {
   "cell_type": "code",
   "execution_count": null,
   "id": "d1dcac42",
   "metadata": {},
   "outputs": [],
   "source": [
    "from PyQt5.QtWidgets import *\n",
    "from PyQt5.QtGui import QPixmap\n",
    "from PyQt5.QtCore import Qt\n",
    "import glob\n",
    "import time\n",
    "import sys\n",
    "import os\n",
    "s_t=time.time()\n",
    "class ImageThumbnailWidget(QWidget):\n",
    "    def __init__(self, image_path):\n",
    "        super().__init__()\n",
    "\n",
    "        self.image_path = image_path\n",
    "        self.bg_color=\"#222324\"\n",
    "        \n",
    "        self.init_ui()\n",
    "    def init_ui(self):\n",
    "        layout = QVBoxLayout()\n",
    "        self.setStyleSheet(f\"background-color: {self.bg_color};\")\n",
    "\n",
    "        pixmap = QPixmap(self.image_path)\n",
    "        pixmap = pixmap.scaledToWidth(200)  \n",
    "\n",
    "        self.label = QLabel()\n",
    "        self.label.setPixmap(pixmap)\n",
    "        self.label.setAlignment(Qt.AlignCenter)\n",
    "\n",
    "        layout.addWidget(self.label)\n",
    "        self.setLayout(layout)\n",
    "\n",
    "    def enterEvent(self, event):\n",
    "        # Change background color when the mouse enters\n",
    "        self.setStyleSheet(\"background-color: #606162;\")\n",
    "\n",
    "    def leaveEvent(self, event):\n",
    "        # Reset background color when the mouse leaves\n",
    "        self.setStyleSheet(f\"background-color: {self.bg_color};\")\n",
    "\n",
    "    def mousePressEvent(self, event):\n",
    "        self.setStyleSheet(\"background-color: #0f68db;\")\n",
    "    \n",
    "    def mouseReleaseEvent(self, event):\n",
    "            self.setStyleSheet(f\"background-color: {self.bg_color};\")\n",
    "            \n",
    "            \n",
    "            \n",
    "            \n",
    "class ImageGalleryApp(QMainWindow):\n",
    "    def __init__(self):\n",
    "        super().__init__()\n",
    "        self.bg_color=\"#222324\"\n",
    "        self.init_ui()\n",
    "\n",
    "    def init_ui(self):\n",
    "        central_widget = QWidget()\n",
    "        self.setStyleSheet(f\"background-color: {self.bg_color};\")\n",
    "\n",
    "        scroll_area = QScrollArea()\n",
    "        scroll_area.setWidgetResizable(True)\n",
    "\n",
    "        scroll_content = QWidget(scroll_area)\n",
    "        scroll_area.setWidget(scroll_content)\n",
    "\n",
    "        layout = QGridLayout(scroll_content)\n",
    "\n",
    "        #current_directory = os.getcwd()\n",
    "        file_types=['jpg','jpeg','png']\n",
    "        image_files=[]\n",
    "        for file_type in file_types:\n",
    "            image_files+=(glob.glob(f\"/media/mgama1/mgama1/photos/**/*.{file_type}\",recursive=True))\n",
    "\n",
    "        row, col = 0, 0\n",
    "        for index, image_file in enumerate(image_files):\n",
    "            \n",
    "            thumbnail_widget = ImageThumbnailWidget(image_file)\n",
    "            layout.addWidget(thumbnail_widget, row, col)\n",
    "            col += 1\n",
    "\n",
    "            if col == round(self.width()/200):\n",
    "                col = 0\n",
    "                row += 1\n",
    "\n",
    "        central_widget.setLayout(layout)\n",
    "        scroll_area.setWidget(central_widget)\n",
    "\n",
    "        self.setCentralWidget(scroll_area)\n",
    "\n",
    "        self.setGeometry(100, 100, 800, 600)\n",
    "        self.setWindowTitle('OGallery')\n",
    "        self.show()\n",
    "        print(time.time()-s_t)\n",
    "\n",
    "if __name__ == '__main__':\n",
    "    app = QApplication(sys.argv)\n",
    "    gallery_app = ImageGalleryApp()\n",
    "    sys.exit(app.exec_())\n",
    "#6.7s 5.3s 5.2s 5.2s 5.2s"
   ]
  },
  {
   "cell_type": "markdown",
   "id": "e92a82c1",
   "metadata": {},
   "source": [
    "# thumbnail using cache"
   ]
  },
  {
   "cell_type": "code",
   "execution_count": null,
   "id": "f1ae40e2",
   "metadata": {},
   "outputs": [],
   "source": [
    "#linux thumbnail metadata\n",
    "from PIL import Image\n",
    "import hashlib\n",
    "\n",
    "filename = '/home/mgama1/.cache/thumbnails/large/0abccf13363918397280761f6766f230.png'\n",
    "img = Image.open(filename)\n",
    "print(\"linux: \\n\",img.info)\n",
    "filename = '/home/mgama1/.cache/OpenGallery/0abccf13363918397280761f6766f230.png'\n",
    "\n",
    "img = Image.open(filename)\n",
    "print(\"OG: \\n\",img.info)"
   ]
  },
  {
   "cell_type": "code",
   "execution_count": null,
   "id": "cdb58951",
   "metadata": {},
   "outputs": [],
   "source": []
  },
  {
   "cell_type": "code",
   "execution_count": null,
   "id": "6eb32db9",
   "metadata": {},
   "outputs": [],
   "source": []
  },
  {
   "cell_type": "code",
   "execution_count": null,
   "id": "ff4c188a",
   "metadata": {
    "scrolled": true
   },
   "outputs": [],
   "source": []
  },
  {
   "cell_type": "code",
   "execution_count": null,
   "id": "46491e8d",
   "metadata": {},
   "outputs": [],
   "source": []
  },
  {
   "cell_type": "code",
   "execution_count": 3,
   "id": "05fddbff",
   "metadata": {},
   "outputs": [
    {
     "data": {
      "text/plain": [
       "True"
      ]
     },
     "execution_count": 3,
     "metadata": {},
     "output_type": "execute_result"
    }
   ],
   "source": [
    "from custom import *\n",
    "pixmap1 = QPixmap(qta.icon('mdi.jellyfish',color='#faf7f7').pixmap(400,400))\n",
    "pixmap2 = QPixmap(qta.icon('mdi.fullscreen-exit',color='#e2172b').pixmap(200,200))\n",
    "combined_pixmap = CustomAwesome().concat_pixmaps(pixmap1, pixmap2,2)\n",
    "combined_pixmap.save('angry.png')\n",
    "\n",
    "\n",
    "pixmap1 = QPixmap(qta.icon('mdi.jellyfish',color='#faf7f7').pixmap(400,400))\n",
    "pixmap2 = QPixmap(qta.icon('mdi.glasses',color='#000000').pixmap(200,200))\n",
    "\n",
    "combined_pixmap=CustomAwesome().concat_pixmaps(pixmap1, pixmap2,3)\n",
    "combined_pixmap.save('info.png')\n",
    "\n",
    "\n",
    "pixmap1 = QPixmap(qta.icon('mdi.jellyfish',color='#faf7f7').pixmap(400,400))\n",
    "pixmap2 = QPixmap(qta.icon('fa.exclamation',color='#fde01a').pixmap(200,200))\n",
    "combined_pixmap = CustomAwesome().concat_pixmaps(pixmap1, pixmap2,1.5)\n",
    "combined_pixmap.save('warning.png')"
   ]
  },
  {
   "cell_type": "code",
   "execution_count": null,
   "id": "2aed5af1",
   "metadata": {},
   "outputs": [],
   "source": []
  },
  {
   "cell_type": "code",
   "execution_count": null,
   "id": "79cfe90c",
   "metadata": {},
   "outputs": [],
   "source": []
  },
  {
   "cell_type": "code",
   "execution_count": null,
   "id": "9d5d3333",
   "metadata": {},
   "outputs": [],
   "source": []
  },
  {
   "cell_type": "code",
   "execution_count": null,
   "id": "3ca6d510",
   "metadata": {},
   "outputs": [],
   "source": []
  },
  {
   "cell_type": "code",
   "execution_count": null,
   "id": "c4fc0c6f",
   "metadata": {},
   "outputs": [],
   "source": []
  },
  {
   "cell_type": "code",
   "execution_count": null,
   "id": "7155a508",
   "metadata": {},
   "outputs": [],
   "source": []
  },
  {
   "cell_type": "code",
   "execution_count": null,
   "id": "71353d44",
   "metadata": {},
   "outputs": [],
   "source": []
  },
  {
   "cell_type": "code",
   "execution_count": null,
   "id": "33816717",
   "metadata": {},
   "outputs": [],
   "source": []
  },
  {
   "cell_type": "code",
   "execution_count": null,
   "id": "062d0737",
   "metadata": {},
   "outputs": [],
   "source": []
  },
  {
   "cell_type": "code",
   "execution_count": null,
   "id": "71e17078",
   "metadata": {},
   "outputs": [],
   "source": []
  },
  {
   "cell_type": "code",
   "execution_count": null,
   "id": "7906a2a8",
   "metadata": {},
   "outputs": [],
   "source": []
  },
  {
   "cell_type": "code",
   "execution_count": null,
   "id": "e7bfd1fa",
   "metadata": {},
   "outputs": [],
   "source": []
  },
  {
   "cell_type": "code",
   "execution_count": null,
   "id": "f3210e3a",
   "metadata": {},
   "outputs": [],
   "source": []
  },
  {
   "cell_type": "code",
   "execution_count": null,
   "id": "ac062b10",
   "metadata": {},
   "outputs": [],
   "source": []
  },
  {
   "cell_type": "code",
   "execution_count": null,
   "id": "2a65849f",
   "metadata": {},
   "outputs": [],
   "source": []
  },
  {
   "cell_type": "code",
   "execution_count": null,
   "id": "1b25d9d3",
   "metadata": {},
   "outputs": [],
   "source": []
  },
  {
   "cell_type": "code",
   "execution_count": null,
   "id": "a0840fc3",
   "metadata": {},
   "outputs": [],
   "source": []
  },
  {
   "cell_type": "code",
   "execution_count": null,
   "id": "34585a19",
   "metadata": {},
   "outputs": [],
   "source": []
  },
  {
   "cell_type": "code",
   "execution_count": null,
   "id": "73ee208b",
   "metadata": {},
   "outputs": [],
   "source": []
  },
  {
   "cell_type": "code",
   "execution_count": null,
   "id": "1f24ae1f",
   "metadata": {},
   "outputs": [],
   "source": []
  },
  {
   "cell_type": "code",
   "execution_count": null,
   "id": "334efb5b",
   "metadata": {},
   "outputs": [],
   "source": []
  },
  {
   "cell_type": "code",
   "execution_count": 1,
   "id": "6a600810",
   "metadata": {},
   "outputs": [
    {
     "ename": "SystemExit",
     "evalue": "0",
     "output_type": "error",
     "traceback": [
      "An exception has occurred, use %tb to see the full traceback.\n",
      "\u001b[0;31mSystemExit\u001b[0m\u001b[0;31m:\u001b[0m 0\n"
     ]
    },
    {
     "name": "stderr",
     "output_type": "stream",
     "text": [
      "/home/mgama1/anaconda3/lib/python3.9/site-packages/IPython/core/interactiveshell.py:3513: UserWarning: To exit: use 'exit', 'quit', or Ctrl-D.\n",
      "  warn(\"To exit: use 'exit', 'quit', or Ctrl-D.\", stacklevel=1)\n"
     ]
    }
   ],
   "source": [
    "from PyQt5.QtWidgets import *\n",
    "from PyQt5.QtGui import QPixmap\n",
    "from PyQt5.QtCore import Qt\n",
    "import glob\n",
    "import sys\n",
    "import os\n",
    "\n",
    "\n",
    "class ImageThumbnailWidget(QWidget):\n",
    "    def __init__(self, image_path):\n",
    "        super().__init__()\n",
    "        self.image_path = image_path\n",
    "        self.bg_color = \"#222324\"\n",
    "        self.init_ui()\n",
    "\n",
    "    def init_ui(self):\n",
    "        layout = QVBoxLayout()\n",
    "        self.setStyleSheet(f\"background-color: {self.bg_color};\")\n",
    "\n",
    "        self.label = QLabel()\n",
    "        self.label.setAlignment(Qt.AlignCenter)\n",
    "\n",
    "        layout.addWidget(self.label)\n",
    "        self.setLayout(layout)\n",
    "\n",
    "    def load_thumbnail(self):\n",
    "        pixmap = QPixmap(self.image_path)\n",
    "        pixmap = pixmap.scaledToWidth(200)\n",
    "        self.label.setPixmap(pixmap)\n",
    "\n",
    "    def enterEvent(self, event):\n",
    "        # Change background color when the mouse enters\n",
    "        self.setStyleSheet(\"background-color: #606162;\")\n",
    "\n",
    "    def leaveEvent(self, event):\n",
    "        # Reset background color when the mouse leaves\n",
    "        self.setStyleSheet(f\"background-color: {self.bg_color};\")\n",
    "\n",
    "\n",
    "class ImageGalleryApp(QMainWindow):\n",
    "    def __init__(self):\n",
    "        super().__init__()\n",
    "        self.bg_color = \"#222324\"\n",
    "        self.scroll_value =   0  # Initialize scroll_value\n",
    "        self.batch_size =   3  # Number of thumbnails to load per batch\n",
    "        self.loaded_count =   0  # Counter for thumbnails loaded in the current batch\n",
    "        self.scrollbar_threshold =   600  # Scrollbar threshold for loading thumbnails\n",
    "        self.thumbnails_to_load = []  # List of thumbnails to load\n",
    "        self.init_ui()\n",
    "\n",
    "    def init_ui(self):\n",
    "        central_widget = QWidget()\n",
    "        self.setStyleSheet(f\"background-color: {self.bg_color};\")\n",
    "\n",
    "        scroll_area = QScrollArea()\n",
    "        scroll_area.setWidgetResizable(True)\n",
    "\n",
    "        scroll_content = QWidget(scroll_area)\n",
    "        scroll_area.setWidget(scroll_content)\n",
    "\n",
    "        layout = QGridLayout(scroll_content)\n",
    "\n",
    "        file_types = ['jpg', 'jpeg', 'png']\n",
    "        image_files = []\n",
    "        for file_type in file_types:\n",
    "            image_files += (glob.glob(f\"/home/mgama1/.cache/OpenGallery/**/*.{file_type}\", recursive=True))\n",
    "\n",
    "        row, col =   0,   0\n",
    "        for index, image_file in enumerate(image_files):\n",
    "            thumbnail_widget = ImageThumbnailWidget(image_file)\n",
    "            layout.addWidget(thumbnail_widget, row, col)\n",
    "            col +=   1\n",
    "\n",
    "            if col == round(self.width() /   200):\n",
    "                col =   0\n",
    "                row +=   1\n",
    "\n",
    "            self.thumbnails_to_load.append(thumbnail_widget)\n",
    "\n",
    "        central_widget.setLayout(layout)\n",
    "        scroll_area.setWidget(central_widget)\n",
    "\n",
    "        self.setCentralWidget(scroll_area)\n",
    "\n",
    "        self.scroll = scroll_area.verticalScrollBar()\n",
    "        self.scroll.valueChanged.connect(self.update_thumbnails)\n",
    "\n",
    "        self.setGeometry(300, 100, 750, 550)\n",
    "        self.setWindowTitle('OGallery')\n",
    "        self.show()\n",
    "\n",
    "        # Load the first batch of thumbnails immediately\n",
    "        self.load_initial_batch()\n",
    "\n",
    "    def load_initial_batch(self):\n",
    "        for i in range(9):\n",
    "            self.thumbnails_to_load[i].load_thumbnail()\n",
    "            self.loaded_count +=   1\n",
    "        del self.thumbnails_to_load[:self.batch_size]\n",
    "\n",
    "    def update_thumbnails(self):\n",
    "        self.scroll_value = self.scroll.value()\n",
    "        if self.scroll_value >= self.scrollbar_threshold or self.thumbnails_to_load:\n",
    "            for i in range(min(len(self.thumbnails_to_load), self.batch_size)):\n",
    "                self.thumbnails_to_load[i].load_thumbnail()\n",
    "                self.loaded_count +=   1\n",
    "            del self.thumbnails_to_load[:self.batch_size]\n",
    "            self.scrollbar_threshold += self.scrollbar_threshold\n",
    "\n",
    "\n",
    "if __name__ == '__main__':\n",
    "    app = QApplication(sys.argv)\n",
    "    gallery_app = ImageGalleryApp()\n",
    "    sys.exit(app.exec_())\n"
   ]
  },
  {
   "cell_type": "code",
   "execution_count": null,
   "id": "a4f11b8d",
   "metadata": {},
   "outputs": [],
   "source": []
  },
  {
   "cell_type": "code",
   "execution_count": null,
   "id": "d47d7f86",
   "metadata": {},
   "outputs": [],
   "source": []
  },
  {
   "cell_type": "code",
   "execution_count": null,
   "id": "9c3f1e08",
   "metadata": {},
   "outputs": [],
   "source": []
  },
  {
   "cell_type": "code",
   "execution_count": null,
   "id": "6d1d94ea",
   "metadata": {},
   "outputs": [],
   "source": []
  },
  {
   "cell_type": "code",
   "execution_count": null,
   "id": "705aee7f",
   "metadata": {},
   "outputs": [],
   "source": []
  },
  {
   "cell_type": "code",
   "execution_count": null,
   "id": "480a46dc",
   "metadata": {},
   "outputs": [],
   "source": []
  },
  {
   "cell_type": "code",
   "execution_count": null,
   "id": "9083a0e4",
   "metadata": {},
   "outputs": [],
   "source": []
  },
  {
   "cell_type": "code",
   "execution_count": null,
   "id": "7bcee678",
   "metadata": {},
   "outputs": [],
   "source": []
  },
  {
   "cell_type": "code",
   "execution_count": null,
   "id": "6c976df1",
   "metadata": {},
   "outputs": [],
   "source": []
  },
  {
   "cell_type": "code",
   "execution_count": null,
   "id": "23d70488",
   "metadata": {},
   "outputs": [],
   "source": []
  },
  {
   "cell_type": "code",
   "execution_count": null,
   "id": "c18a8518",
   "metadata": {},
   "outputs": [],
   "source": []
  },
  {
   "cell_type": "code",
   "execution_count": null,
   "id": "651313df",
   "metadata": {},
   "outputs": [],
   "source": []
  },
  {
   "cell_type": "code",
   "execution_count": null,
   "id": "8a55bce3",
   "metadata": {},
   "outputs": [],
   "source": []
  },
  {
   "cell_type": "code",
   "execution_count": null,
   "id": "9e2f09c5",
   "metadata": {},
   "outputs": [],
   "source": []
  },
  {
   "cell_type": "code",
   "execution_count": null,
   "id": "0ede32fa",
   "metadata": {},
   "outputs": [],
   "source": []
  },
  {
   "cell_type": "code",
   "execution_count": null,
   "id": "3f38a4b0",
   "metadata": {},
   "outputs": [],
   "source": []
  },
  {
   "cell_type": "code",
   "execution_count": null,
   "id": "83ed84ad",
   "metadata": {},
   "outputs": [],
   "source": [
    "def crop(image,x=0,y=0,w=200 ,h=200):\n",
    "    return image[y:y+h, x:x+w]\n"
   ]
  },
  {
   "cell_type": "code",
   "execution_count": null,
   "id": "0fa119dc",
   "metadata": {},
   "outputs": [],
   "source": []
  },
  {
   "cell_type": "code",
   "execution_count": null,
   "id": "ce8bc4fe",
   "metadata": {},
   "outputs": [],
   "source": []
  },
  {
   "cell_type": "code",
   "execution_count": null,
   "id": "1e6082fb",
   "metadata": {},
   "outputs": [],
   "source": []
  },
  {
   "cell_type": "code",
   "execution_count": null,
   "id": "7de75421",
   "metadata": {},
   "outputs": [],
   "source": []
  },
  {
   "cell_type": "code",
   "execution_count": null,
   "id": "d32e14cd",
   "metadata": {},
   "outputs": [],
   "source": []
  },
  {
   "cell_type": "code",
   "execution_count": null,
   "id": "086d28fd",
   "metadata": {},
   "outputs": [],
   "source": []
  },
  {
   "cell_type": "code",
   "execution_count": null,
   "id": "510b8d05",
   "metadata": {},
   "outputs": [],
   "source": []
  },
  {
   "cell_type": "code",
   "execution_count": null,
   "id": "07783cfd",
   "metadata": {},
   "outputs": [],
   "source": [
    "import glob\n",
    "dirfilesnames=(glob.glob(\"./cats/*\"))\n",
    "hash1 = imagehash.average_hash(Image.open('cat.jpg'))\n",
    "\n",
    "hashdic={}\n",
    "for filename in dirfilesnames:\n",
    "    hashdic.update({filename:imagehash.average_hash(Image.open(filename))})\n",
    "\n",
    "for hkey in hashdic:\n",
    "    if (hash1-hashdic[hkey])<34:\n",
    "        print(hkey)\n",
    "    \n"
   ]
  },
  {
   "cell_type": "code",
   "execution_count": null,
   "id": "04376d56",
   "metadata": {
    "scrolled": false
   },
   "outputs": [],
   "source": []
  },
  {
   "cell_type": "code",
   "execution_count": null,
   "id": "d17843a0",
   "metadata": {},
   "outputs": [],
   "source": []
  },
  {
   "cell_type": "code",
   "execution_count": null,
   "id": "7fef1a26",
   "metadata": {},
   "outputs": [],
   "source": [
    "\n"
   ]
  },
  {
   "cell_type": "code",
   "execution_count": null,
   "id": "0e370e64",
   "metadata": {},
   "outputs": [],
   "source": []
  },
  {
   "cell_type": "code",
   "execution_count": null,
   "id": "8e8f6cc8",
   "metadata": {},
   "outputs": [],
   "source": []
  },
  {
   "cell_type": "code",
   "execution_count": null,
   "id": "3bcad150",
   "metadata": {},
   "outputs": [],
   "source": []
  },
  {
   "cell_type": "code",
   "execution_count": null,
   "id": "2f6f4ce8",
   "metadata": {},
   "outputs": [],
   "source": []
  },
  {
   "cell_type": "code",
   "execution_count": null,
   "id": "35bcb2cd",
   "metadata": {},
   "outputs": [],
   "source": []
  },
  {
   "cell_type": "code",
   "execution_count": null,
   "id": "0d36d94a",
   "metadata": {},
   "outputs": [],
   "source": []
  },
  {
   "cell_type": "code",
   "execution_count": null,
   "id": "214e5b35",
   "metadata": {},
   "outputs": [],
   "source": []
  },
  {
   "cell_type": "code",
   "execution_count": null,
   "id": "afe60848",
   "metadata": {},
   "outputs": [],
   "source": []
  },
  {
   "cell_type": "code",
   "execution_count": null,
   "id": "cbdc5646",
   "metadata": {},
   "outputs": [],
   "source": []
  },
  {
   "cell_type": "code",
   "execution_count": null,
   "id": "09e5b831",
   "metadata": {},
   "outputs": [],
   "source": []
  },
  {
   "cell_type": "code",
   "execution_count": null,
   "id": "c118078b",
   "metadata": {},
   "outputs": [],
   "source": []
  },
  {
   "cell_type": "code",
   "execution_count": null,
   "id": "e0c9241b",
   "metadata": {},
   "outputs": [],
   "source": []
  },
  {
   "cell_type": "code",
   "execution_count": null,
   "id": "17bfb417",
   "metadata": {},
   "outputs": [],
   "source": []
  },
  {
   "cell_type": "code",
   "execution_count": null,
   "id": "ed7e4850",
   "metadata": {},
   "outputs": [],
   "source": []
  },
  {
   "cell_type": "code",
   "execution_count": null,
   "id": "dec465ae",
   "metadata": {},
   "outputs": [],
   "source": []
  },
  {
   "cell_type": "code",
   "execution_count": null,
   "id": "9e1c5174",
   "metadata": {},
   "outputs": [],
   "source": []
  },
  {
   "cell_type": "code",
   "execution_count": null,
   "id": "39e70a2e",
   "metadata": {},
   "outputs": [],
   "source": []
  },
  {
   "cell_type": "code",
   "execution_count": null,
   "id": "79c93a27",
   "metadata": {},
   "outputs": [],
   "source": []
  },
  {
   "cell_type": "code",
   "execution_count": null,
   "id": "9989fa93",
   "metadata": {},
   "outputs": [],
   "source": []
  },
  {
   "cell_type": "code",
   "execution_count": null,
   "id": "81fdfe55",
   "metadata": {},
   "outputs": [],
   "source": []
  },
  {
   "cell_type": "code",
   "execution_count": null,
   "id": "86c289e6",
   "metadata": {},
   "outputs": [],
   "source": []
  },
  {
   "cell_type": "code",
   "execution_count": null,
   "id": "47407dbe",
   "metadata": {},
   "outputs": [],
   "source": []
  },
  {
   "cell_type": "code",
   "execution_count": null,
   "id": "2fb27816",
   "metadata": {},
   "outputs": [],
   "source": []
  },
  {
   "cell_type": "code",
   "execution_count": null,
   "id": "52c7e60a",
   "metadata": {},
   "outputs": [],
   "source": []
  },
  {
   "cell_type": "code",
   "execution_count": null,
   "id": "1f8cefa2",
   "metadata": {
    "scrolled": true
   },
   "outputs": [],
   "source": []
  },
  {
   "cell_type": "code",
   "execution_count": null,
   "id": "faae802a",
   "metadata": {},
   "outputs": [],
   "source": []
  },
  {
   "cell_type": "code",
   "execution_count": null,
   "id": "79a7802b",
   "metadata": {},
   "outputs": [],
   "source": []
  },
  {
   "cell_type": "code",
   "execution_count": null,
   "id": "de300e6e",
   "metadata": {},
   "outputs": [],
   "source": []
  },
  {
   "cell_type": "code",
   "execution_count": null,
   "id": "4a41a2ae",
   "metadata": {},
   "outputs": [],
   "source": []
  },
  {
   "cell_type": "code",
   "execution_count": null,
   "id": "ddbbf6a3",
   "metadata": {},
   "outputs": [],
   "source": []
  },
  {
   "cell_type": "code",
   "execution_count": null,
   "id": "b4a5b5be",
   "metadata": {},
   "outputs": [],
   "source": []
  },
  {
   "cell_type": "code",
   "execution_count": null,
   "id": "c71b912e",
   "metadata": {},
   "outputs": [],
   "source": [
    "\n"
   ]
  },
  {
   "cell_type": "code",
   "execution_count": null,
   "id": "67a8d1d8",
   "metadata": {},
   "outputs": [],
   "source": []
  },
  {
   "cell_type": "code",
   "execution_count": null,
   "id": "aae108d3",
   "metadata": {},
   "outputs": [],
   "source": []
  },
  {
   "cell_type": "code",
   "execution_count": null,
   "id": "8a8b751f",
   "metadata": {},
   "outputs": [],
   "source": []
  },
  {
   "cell_type": "code",
   "execution_count": null,
   "id": "331300f5",
   "metadata": {},
   "outputs": [],
   "source": []
  },
  {
   "cell_type": "code",
   "execution_count": null,
   "id": "6479c89e",
   "metadata": {},
   "outputs": [],
   "source": [
    "import numpy as np\n",
    "import plotly.graph_objects as go\n",
    "from matplotlib.colors import rgb2hex\n",
    "#I don't know about you but i don't wanna plot the whole 286,832 pixel\n",
    "#so let's just take a sample\n",
    "sample_indices = np.random.choice(np.arange(pixels.shape[0]), size=2000, replace=False)\n",
    "sampled_pixels = pixels[sample_indices]\n",
    "points = sampled_pixels  \n",
    "\n",
    "# Create a colormap based on RGB values\n",
    "colors = [rgb2hex(rgb / 255) for rgb in points]\n",
    "\n",
    "# Format RGB values as strings\n",
    "rgb_strings = [f\"R: {int(rgb[0])}, G: {int(rgb[1])}, B: {int(rgb[2])}\" for rgb in points]\n",
    "\n",
    "# Create a scatter plot with smaller points, colored by RGB values, and RGB values as hover text\n",
    "fig = go.Figure(data=[go.Scatter3d(\n",
    "    x=points[:, 0],\n",
    "    y=points[:, 1],\n",
    "    z=points[:, 2],\n",
    "    mode='markers',\n",
    "    marker=dict(size=3, color=colors),  # Color points based on RGB values\n",
    "    text=rgb_strings,  # Use RGB values as hover text\n",
    ")])\n",
    "\n",
    "fig.update_layout(scene=dict(\n",
    "    xaxis_title='R',\n",
    "    yaxis_title='G',\n",
    "    zaxis_title='B')\n",
    "    )\n",
    "\n",
    "fig.show()\n"
   ]
  },
  {
   "cell_type": "code",
   "execution_count": null,
   "id": "d7a98759",
   "metadata": {},
   "outputs": [],
   "source": []
  },
  {
   "cell_type": "code",
   "execution_count": null,
   "id": "bf131700",
   "metadata": {
    "scrolled": true
   },
   "outputs": [],
   "source": []
  },
  {
   "cell_type": "code",
   "execution_count": null,
   "id": "96b726a1",
   "metadata": {},
   "outputs": [],
   "source": []
  },
  {
   "cell_type": "code",
   "execution_count": null,
   "id": "5e20078a",
   "metadata": {},
   "outputs": [],
   "source": []
  },
  {
   "cell_type": "code",
   "execution_count": null,
   "id": "52de9fb1",
   "metadata": {},
   "outputs": [],
   "source": []
  },
  {
   "cell_type": "code",
   "execution_count": null,
   "id": "7029696b",
   "metadata": {},
   "outputs": [],
   "source": []
  },
  {
   "cell_type": "code",
   "execution_count": null,
   "id": "bb7f7ec8",
   "metadata": {},
   "outputs": [],
   "source": [
    "import rembg\n",
    "import cv2\n",
    "import numpy as np\n",
    "img=cv2.imread(\"../Cat_August_2010-4.jpg\")\n",
    "mask = rembg.remove(img,only_mask=True)\n",
    "mask_3c=cv2.merge([mask,mask,mask])\n",
    "\n",
    "# Read the images\n",
    "foreground = np.copy(img).astype(float)\n",
    "background = cv2.blur(img,(9,9)).astype(float)\n",
    "alpha = mask_3c\n",
    "\n",
    "# Normalize the alpha mask to keep intensity between 0 and 1\n",
    "alpha = alpha.astype(float)/255\n",
    "\n",
    "# Multiply the foreground with the alpha matte\n",
    "foreground = cv2.multiply(alpha, foreground)/255\n",
    "\n",
    "# Multiply the background with ( 1 - alpha )\n",
    "background = cv2.multiply(1.0 - alpha, background)/255\n",
    "\n",
    "# Add the masked foreground and background.\n",
    "outImage = cv2.add(foreground, background)\n",
    "outImage = (outImage * 255).astype(np.uint8)\n",
    "\n",
    "display(outImage,100)\n"
   ]
  },
  {
   "cell_type": "code",
   "execution_count": null,
   "id": "4291540e",
   "metadata": {},
   "outputs": [],
   "source": []
  },
  {
   "cell_type": "code",
   "execution_count": null,
   "id": "51724a50",
   "metadata": {},
   "outputs": [],
   "source": []
  },
  {
   "cell_type": "code",
   "execution_count": 3,
   "id": "f5bfe01e",
   "metadata": {},
   "outputs": [],
   "source": [
    "def display(image,scale_percent=50):\n",
    "    \n",
    "    width = int(image.shape[1] * scale_percent / 100)\n",
    "    height = int(image.shape[0] * scale_percent / 100)\n",
    "    dim = (width, height)\n",
    "  \n",
    "    resized = cv2.resize(image, dim, interpolation = cv2.INTER_AREA)\n",
    "\n",
    "    cv2.imshow('display', resized) \n",
    "    cv2.waitKey(0)   \n",
    "    cv2.destroyAllWindows()"
   ]
  },
  {
   "cell_type": "code",
   "execution_count": null,
   "id": "77a06890",
   "metadata": {},
   "outputs": [],
   "source": []
  },
  {
   "cell_type": "code",
   "execution_count": null,
   "id": "d3815354",
   "metadata": {},
   "outputs": [],
   "source": []
  },
  {
   "cell_type": "markdown",
   "id": "c041a7df",
   "metadata": {},
   "source": [
    "# phase 1.5\n",
    "\n",
    "- select multiple to del\n",
    "\n"
   ]
  },
  {
   "cell_type": "markdown",
   "id": "5216955f",
   "metadata": {},
   "source": [
    "# phase 2\n",
    "- text ocr\n",
    "- object detection and decoding of qr code\n",
    "- equations to latex\n",
    "- Encrypted folder"
   ]
  },
  {
   "cell_type": "markdown",
   "id": "7552923f",
   "metadata": {},
   "source": [
    "# phase 3\n",
    "- line_profiler and memory_profiler\n",
    "- better models:  multilabel classification - Blip Image Captioning - one shot learning (needs a lot of convineint data)"
   ]
  },
  {
   "cell_type": "code",
   "execution_count": null,
   "id": "b4416c1c",
   "metadata": {},
   "outputs": [],
   "source": []
  },
  {
   "cell_type": "code",
   "execution_count": null,
   "id": "95c59c34",
   "metadata": {},
   "outputs": [],
   "source": []
  },
  {
   "cell_type": "code",
   "execution_count": null,
   "id": "6369773f",
   "metadata": {},
   "outputs": [],
   "source": []
  },
  {
   "cell_type": "code",
   "execution_count": null,
   "id": "e9981124",
   "metadata": {},
   "outputs": [],
   "source": [
    "import subprocess\n",
    "\n",
    "def set_background(image_path):\n",
    "    command = [\"gsettings\", \"set\", \"org.gnome.desktop.background\", \"picture-uri\", f\"{image_path}\"]\n",
    "    subprocess.run(command, check=True)\n",
    "\n",
    "image_path = \"/media/mgama1/mgama1/photos/190529-N-XD935-010X.jpeg\"\n",
    "set_background(image_path)\n"
   ]
  },
  {
   "cell_type": "code",
   "execution_count": null,
   "id": "902ef7bf",
   "metadata": {},
   "outputs": [],
   "source": [
    "import os\n",
    "\n",
    "def set_background(image_path):\n",
    "    command = f\"gsettings set org.gnome.desktop.background picture-uri file://{image_path}\"\n",
    "    os.system(command)\n",
    "    \n",
    "# Example usage\n",
    "set_background(image_path)\n"
   ]
  },
  {
   "cell_type": "code",
   "execution_count": 1,
   "id": "535465e2",
   "metadata": {},
   "outputs": [
    {
     "ename": "SystemExit",
     "evalue": "0",
     "output_type": "error",
     "traceback": [
      "An exception has occurred, use %tb to see the full traceback.\n",
      "\u001b[0;31mSystemExit\u001b[0m\u001b[0;31m:\u001b[0m 0\n"
     ]
    },
    {
     "name": "stderr",
     "output_type": "stream",
     "text": [
      "/home/mgama1/anaconda3/lib/python3.9/site-packages/IPython/core/interactiveshell.py:3513: UserWarning: To exit: use 'exit', 'quit', or Ctrl-D.\n",
      "  warn(\"To exit: use 'exit', 'quit', or Ctrl-D.\", stacklevel=1)\n"
     ]
    }
   ],
   "source": []
  },
  {
   "cell_type": "code",
   "execution_count": null,
   "id": "8b2e3408",
   "metadata": {},
   "outputs": [],
   "source": []
  }
 ],
 "metadata": {
  "kernelspec": {
   "display_name": "Python 3 (ipykernel)",
   "language": "python",
   "name": "python3"
  },
  "language_info": {
   "codemirror_mode": {
    "name": "ipython",
    "version": 3
   },
   "file_extension": ".py",
   "mimetype": "text/x-python",
   "name": "python",
   "nbconvert_exporter": "python",
   "pygments_lexer": "ipython3",
   "version": "3.9.7"
  }
 },
 "nbformat": 4,
 "nbformat_minor": 5
}
