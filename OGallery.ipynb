{
 "cells": [
  {
   "cell_type": "code",
   "execution_count": null,
   "id": "f99de396",
   "metadata": {},
   "outputs": [],
   "source": [
    "#!pip install pyzbar"
   ]
  },
  {
   "cell_type": "code",
   "execution_count": null,
   "id": "d52b137d-ff7d-4f88-8cf3-e72d6c0289ff",
   "metadata": {},
   "outputs": [],
   "source": [
    "#sudo apt-get install zbar-tools\n",
    "\n"
   ]
  },
  {
   "cell_type": "code",
   "execution_count": null,
   "id": "b084b50a-adad-47f0-af7b-f24b87efbd82",
   "metadata": {},
   "outputs": [],
   "source": []
  },
  {
   "cell_type": "code",
   "execution_count": null,
   "id": "d9d55914",
   "metadata": {},
   "outputs": [],
   "source": []
  },
  {
   "cell_type": "code",
   "execution_count": 9,
   "id": "e235e241-c624-4538-b6f7-ee5b6e7c801f",
   "metadata": {},
   "outputs": [
    {
     "name": "stderr",
     "output_type": "stream",
     "text": [
      "Warning: Ignoring XDG_SESSION_TYPE=wayland on Gnome. Use QT_QPA_PLATFORM=wayland to run on Wayland anyway.\n",
      "libGL error: MESA-LOADER: failed to open iris: /usr/lib/dri/iris_dri.so: cannot open shared object file: No such file or directory (search paths /usr/lib/x86_64-linux-gnu/dri:\\$${ORIGIN}/dri:/usr/lib/dri, suffix _dri)\n",
      "libGL error: failed to load driver: iris\n",
      "libGL error: MESA-LOADER: failed to open swrast: /usr/lib/dri/swrast_dri.so: cannot open shared object file: No such file or directory (search paths /usr/lib/x86_64-linux-gnu/dri:\\$${ORIGIN}/dri:/usr/lib/dri, suffix _dri)\n",
      "libGL error: failed to load driver: swrast\n"
     ]
    },
    {
     "name": "stdout",
     "output_type": "stream",
     "text": [
      "loading time: 0.5523805618286133\n",
      "loading time: 0.39565515518188477\n",
      "loading time: 2.054561138153076\n"
     ]
    }
   ],
   "source": []
  },
  {
   "cell_type": "code",
   "execution_count": null,
   "id": "64cf4936-ecc6-4254-b0ed-e3d8af660a31",
   "metadata": {},
   "outputs": [],
   "source": []
  },
  {
   "cell_type": "code",
   "execution_count": null,
   "id": "ccb51b2d-c434-4d5c-b7e5-9bf143959180",
   "metadata": {},
   "outputs": [],
   "source": []
  },
  {
   "cell_type": "code",
   "execution_count": null,
   "id": "c84a902b-5224-4676-8fb5-feb2167a1695",
   "metadata": {},
   "outputs": [],
   "source": []
  },
  {
   "cell_type": "code",
   "execution_count": 17,
   "id": "b2c55e2b-7c0c-4feb-9519-37f526189b7d",
   "metadata": {},
   "outputs": [
    {
     "name": "stderr",
     "output_type": "stream",
     "text": [
      "Warning: Ignoring XDG_SESSION_TYPE=wayland on Gnome. Use QT_QPA_PLATFORM=wayland to run on Wayland anyway.\n",
      "libGL error: MESA-LOADER: failed to open iris: /usr/lib/dri/iris_dri.so: cannot open shared object file: No such file or directory (search paths /usr/lib/x86_64-linux-gnu/dri:\\$${ORIGIN}/dri:/usr/lib/dri, suffix _dri)\n",
      "libGL error: failed to load driver: iris\n",
      "libGL error: MESA-LOADER: failed to open swrast: /usr/lib/dri/swrast_dri.so: cannot open shared object file: No such file or directory (search paths /usr/lib/x86_64-linux-gnu/dri:\\$${ORIGIN}/dri:/usr/lib/dri, suffix _dri)\n",
      "libGL error: failed to load driver: swrast\n"
     ]
    },
    {
     "name": "stdout",
     "output_type": "stream",
     "text": [
      "loading time: 6.350249528884888\n",
      "Mon May  6 04:55:47 2024    gallery_profile\n",
      "\n",
      "         1134081 function calls (1126473 primitive calls) in 24.328 seconds\n",
      "\n",
      "   Ordered by: cumulative time\n",
      "\n",
      "   ncalls  tottime  percall  cumtime  percall filename:lineno(function)\n",
      "        1    0.000    0.000   24.463   24.463 {built-in method builtins.exec}\n",
      "        1    0.000    0.000   24.462   24.462 <string>:1(<module>)\n",
      "        1    0.715    0.715   24.462   24.462 1381527083.py:5(run_app)\n",
      "        1   16.991   16.991   17.250   17.250 {built-in method exec_}\n",
      "        1    0.001    0.001    6.378    6.378 689984099.py:1740(__init__)\n",
      "        1    0.018    0.018    6.350    6.350 689984099.py:1758(init_ui)\n",
      "      127    0.021    0.000    5.605    0.044 689984099.py:1646(__init__)\n",
      "      255    0.003    0.000    5.447    0.021 __init__.py:117(safe_load)\n",
      "      255    0.013    0.000    5.444    0.021 __init__.py:74(load)\n",
      "      255    0.003    0.000    5.332    0.021 constructor.py:47(get_single_data)\n",
      "      255    0.006    0.000    5.075    0.020 composer.py:29(get_single_node)\n",
      "      255    0.004    0.000    4.878    0.019 composer.py:50(compose_document)\n",
      " 7395/255    0.155    0.000    4.863    0.019 composer.py:63(compose_node)\n",
      "      255    0.057    0.000    4.797    0.019 composer.py:117(compose_mapping_node)\n",
      "    19635    0.134    0.000    4.554    0.000 parser.py:94(check_event)\n",
      "    53550    0.379    0.000    3.563    0.000 scanner.py:113(check_token)\n",
      "    10965    0.227    0.000    2.535    0.000 scanner.py:156(fetch_more_tokens)\n",
      "     3825    0.071    0.000    2.445    0.001 parser.py:427(parse_block_mapping_key)\n",
      "     3570    0.064    0.000    1.730    0.000 parser.py:446(parse_block_mapping_value)\n",
      "     7395    0.259    0.000    1.077    0.000 parser.py:273(parse_node)\n",
      "     7140    0.039    0.000    1.066    0.000 parser.py:270(parse_block_node_or_indentless_sequence)\n",
      "     3825    0.039    0.000    0.894    0.000 scanner.py:668(fetch_plain)\n",
      "    87975    0.452    0.000    0.796    0.000 scanner.py:145(need_more_tokens)\n",
      "     3825    0.268    0.000    0.720    0.000 scanner.py:1270(scan_plain)\n",
      "     3315    0.015    0.000    0.606    0.000 scanner.py:651(fetch_single)\n",
      "     3315    0.034    0.000    0.591    0.000 scanner.py:657(fetch_flow_scalar)\n",
      "     3315    0.101    0.000    0.537    0.000 scanner.py:1134(scan_flow_scalar)\n",
      "    28305    0.447    0.000    0.471    0.000 reader.py:99(forward)\n",
      "    10965    0.154    0.000    0.401    0.000 scanner.py:752(scan_to_next_token)\n",
      "     3315    0.112    0.000    0.291    0.000 scanner.py:1185(scan_flow_scalar_non_spaces)\n",
      "    15300    0.100    0.000    0.263    0.000 scanner.py:135(get_token)\n",
      "    89505    0.260    0.000    0.260    0.000 scanner.py:279(stale_possible_simple_keys)\n",
      "      255    0.005    0.000    0.255    0.001 constructor.py:54(construct_document)\n",
      "     3570    0.120    0.000    0.244    0.000 scanner.py:545(fetch_value)\n",
      "      510    0.003    0.000    0.239    0.000 constructor.py:410(construct_yaml_map)\n",
      "   160140    0.239    0.000    0.239    0.000 reader.py:87(peek)\n",
      "      255    0.005    0.000    0.235    0.001 constructor.py:215(construct_mapping)\n",
      "     7140    0.104    0.000    0.231    0.000 composer.py:88(compose_scalar_node)\n",
      "      169    0.019    0.000    0.227    0.001 689984099.py:1802(update_thumbnails)\n",
      "    25755    0.151    0.000    0.217    0.000 reader.py:114(get_mark)\n",
      "      255    0.034    0.000    0.213    0.001 constructor.py:132(construct_mapping)\n",
      "        1    0.213    0.213    0.213    0.213 {built-in method show}\n",
      "      127    0.007    0.000    0.170    0.001 threading.py:945(start)\n",
      "     7395    0.083    0.000    0.168    0.000 constructor.py:67(construct_object)\n",
      "      255    0.007    0.000    0.158    0.001 parser.py:139(parse_implicit_document_start)\n",
      "    14535    0.074    0.000    0.158    0.000 scanner.py:1416(scan_line_break)\n",
      "     7140    0.087    0.000    0.145    0.000 scanner.py:295(save_possible_simple_key)\n",
      "      129    0.141    0.001    0.141    0.001 {built-in method setLayout}\n",
      "        2    0.140    0.070    0.140    0.070 {built-in method setWidget}\n",
      "      127    0.007    0.000    0.129    0.001 threading.py:611(wait)\n",
      "    78540    0.127    0.000    0.127    0.000 scanner.py:264(next_possible_simple_key)\n",
      "        1    0.000    0.000    0.119    0.119 core.py:7(getImagesPaths)\n",
      "      127    0.007    0.000    0.119    0.001 threading.py:295(wait)\n",
      "   115455    0.105    0.000    0.118    0.000 {built-in method builtins.isinstance}\n",
      "       12    0.000    0.000    0.114    0.009 glob.py:13(glob)\n",
      "  279/139    0.004    0.000    0.113    0.001 glob.py:60(_iglob)\n",
      "      509    0.108    0.000    0.108    0.000 {method 'acquire' of '_thread.lock' objects}\n",
      "     3825    0.049    0.000    0.107    0.000 scanner.py:1311(scan_plain_spaces)\n",
      "     8160    0.030    0.000    0.101    0.000 scanner.py:125(peek_token)\n",
      "      255    0.007    0.000    0.099    0.000 loader.py:33(__init__)\n",
      "      127    0.027    0.000    0.095    0.001 689984099.py:1661(init_ui)\n",
      "        1    0.095    0.095    0.095    0.095 {built-in method setCentralWidget}\n",
      "     7395    0.073    0.000    0.094    0.000 resolver.py:143(resolve)\n",
      "    14790    0.080    0.000    0.094    0.000 reader.py:94(prefix)\n",
      "     7140    0.019    0.000    0.078    0.000 constructor.py:402(construct_yaml_str)\n",
      "      255    0.006    0.000    0.071    0.000 reader.py:59(__init__)\n",
      "    25755    0.066    0.000    0.066    0.000 error.py:6(__init__)\n",
      "      255    0.003    0.000    0.064    0.000 parser.py:422(parse_block_mapping_first_key)\n",
      "      255    0.005    0.000    0.064    0.000 reader.py:122(determine_encoding)\n",
      "     7140    0.034    0.000    0.059    0.000 constructor.py:173(construct_scalar)\n",
      "      256    0.008    0.000    0.057    0.000 glob.py:175(_listdir)\n",
      "      128    0.002    0.000    0.056    0.000 glob.py:105(_glob1)\n",
      "    11220    0.049    0.000    0.053    0.000 scanner.py:325(unwind_indent)\n",
      "      509    0.052    0.000    0.052    0.000 {method 'connect' of 'PyQt5.QtCore.pyqtBoundSignal' objects}\n",
      "      255    0.002    0.000    0.052    0.000 parser.py:264(parse_block_node)\n",
      "      255    0.004    0.000    0.048    0.000 interactiveshell.py:301(_modified_open)\n",
      "52183/52171    0.046    0.000    0.047    0.000 {built-in method builtins.len}\n",
      "     1420    0.032    0.000    0.045    0.000 glob.py:141(_iterdir)\n",
      "      256    0.043    0.000    0.045    0.000 {built-in method io.open}\n",
      "     8670    0.022    0.000    0.044    0.000 parser.py:114(get_event)\n",
      "      510    0.006    0.000    0.043    0.000 reader.py:177(update_raw)\n",
      "      140    0.001    0.000    0.043    0.000 glob.py:133(_glob2)\n",
      "  416/128    0.004    0.000    0.042    0.000 glob.py:180(_rlistdir)\n",
      "      510    0.027    0.000    0.037    0.000 {method 'read' of '_io.TextIOWrapper' objects}\n",
      "      127    0.013    0.000    0.037    0.000 threading.py:856(__init__)\n",
      "    23205    0.036    0.000    0.036    0.000 {method 'pop' of 'list' objects}\n",
      "      127    0.033    0.000    0.033    0.000 {built-in method _thread.start_new_thread}\n",
      "    31027    0.033    0.000    0.033    0.000 {method 'append' of 'list' objects}\n",
      "      140    0.030    0.000    0.030    0.000 {built-in method setStyleSheet}\n",
      "      128    0.006    0.000    0.025    0.000 fnmatch.py:48(filter)\n",
      "      765    0.007    0.000    0.025    0.000 reader.py:146(update)\n",
      "     7140    0.023    0.000    0.023    0.000 events.py:65(__init__)\n",
      "     3570    0.016    0.000    0.021    0.000 scanner.py:721(check_value)\n",
      "     3825    0.014    0.000    0.020    0.000 scanner.py:731(check_plain)\n",
      "     7140    0.015    0.000    0.019    0.000 constructor.py:117(construct_scalar)\n",
      "     7140    0.018    0.000    0.018    0.000 nodes.py:27(__init__)\n",
      "     7140    0.018    0.000    0.018    0.000 tokens.py:98(__init__)\n",
      "      255    0.005    0.000    0.017    0.000 scanner.py:371(fetch_stream_end)\n",
      "      255    0.014    0.000    0.017    0.000 constructor.py:180(flatten_mapping)\n",
      "      543    0.009    0.000    0.015    0.000 <frozen posixpath>:71(join)\n",
      "     2060    0.014    0.000    0.014    0.000 {method 'match' of 're.Pattern' objects}\n",
      "      255    0.004    0.000    0.013    0.000 parser.py:127(parse_stream_start)\n",
      "      255    0.004    0.000    0.013    0.000 scanner.py:48(__init__)\n",
      "      127    0.002    0.000    0.013    0.000 threading.py:562(__init__)\n",
      "     7395    0.013    0.000    0.013    0.000 resolver.py:91(descend_resolver)\n",
      "     3570    0.007    0.000    0.013    0.000 <frozen abc>:117(__instancecheck__)\n",
      "     7905    0.012    0.000    0.012    0.000 tokens.py:3(__init__)\n",
      "      256    0.012    0.000    0.012    0.000 {built-in method posix.scandir}\n",
      "     3825    0.012    0.000    0.012    0.000 scanner.py:312(remove_possible_simple_key)\n",
      "     3570    0.012    0.000    0.012    0.000 scanner.py:349(add_indent)\n",
      "        6    0.000    0.000    0.011    0.002 689984099.py:1701(leaveEvent)\n",
      "      256    0.011    0.000    0.011    0.000 {method '__exit__' of '_io._IOBase' objects}\n",
      "     7395    0.011    0.000    0.011    0.000 resolver.py:114(ascend_resolver)\n",
      "     7395    0.011    0.000    0.011    0.000 parser.py:107(peek_event)\n",
      "     7666    0.011    0.000    0.011    0.000 {method 'get' of 'dict' objects}\n",
      "      255    0.004    0.000    0.010    0.000 parser.py:159(parse_document_start)\n",
      "      127    0.010    0.000    0.010    0.000 threading.py:243(__init__)\n",
      "      428    0.002    0.000    0.010    0.000 glob.py:213(_join)\n",
      "        1    0.001    0.001    0.010    0.010 689984099.py:1934(keyPressEvent)\n",
      "        6    0.000    0.000    0.010    0.002 689984099.py:1697(enterEvent)\n",
      "     3570    0.010    0.000    0.010    0.000 scanner.py:38(__init__)\n",
      "      255    0.005    0.000    0.010    0.000 scanner.py:359(fetch_stream_start)\n",
      "        4    0.000    0.000    0.009    0.002 fnmatch.py:38(_compile_pattern)\n",
      "        1    0.009    0.009    0.009    0.009 {built-in method close}\n",
      "      255    0.005    0.000    0.009    0.000 parser.py:190(parse_document_end)\n",
      "     7399    0.008    0.000    0.008    0.000 {method 'extend' of 'list' objects}\n",
      "        4    0.000    0.000    0.008    0.002 __init__.py:225(compile)\n",
      "        4    0.001    0.000    0.008    0.002 __init__.py:272(_compile)\n",
      "      767    0.006    0.000    0.008    0.000 <frozen codecs>:319(decode)\n",
      "     7148    0.008    0.000    0.008    0.000 {method 'join' of 'str' objects}\n",
      "      255    0.002    0.000    0.007    0.000 reader.py:138(check_printable)\n",
      "        4    0.000    0.000    0.007    0.002 _compiler.py:740(compile)\n",
      "      128    0.001    0.000    0.007    0.000 <frozen os>:773(getenv)\n",
      "     3570    0.006    0.000    0.006    0.000 {built-in method _abc._abc_instancecheck}\n",
      "     3825    0.006    0.000    0.006    0.000 {method 'insert' of 'list' objects}\n",
      "      128    0.001    0.000    0.006    0.000 <frozen _collections_abc>:771(get)\n",
      "      327    0.006    0.000    0.006    0.000 {method 'search' of 're.Pattern' objects}\n",
      "     1168    0.004    0.000    0.006    0.000 glob.py:108(<genexpr>)\n",
      "      128    0.002    0.000    0.005    0.000 <frozen os>:674(__getitem__)\n",
      "        1    0.000    0.000    0.005    0.005 {method 'sort' of 'list' objects}\n",
      "      127    0.004    0.000    0.004    0.000 {built-in method addWidget}\n",
      "        4    0.000    0.000    0.004    0.001 _parser.py:979(parse)\n",
      "      127    0.001    0.000    0.004    0.000 core.py:19(<lambda>)\n",
      "      8/4    0.001    0.000    0.004    0.001 _parser.py:456(_parse_sub)\n",
      "        1    0.000    0.000    0.004    0.004 689984099.py:1797(load_initial_batch)\n",
      "      127    0.001    0.000    0.004    0.000 <frozen genericpath>:53(getmtime)\n",
      "      255    0.003    0.000    0.003    0.000 constructor.py:24(__init__)\n",
      "      8/4    0.002    0.000    0.003    0.001 _parser.py:516(_parse)\n",
      "      169    0.003    0.000    0.003    0.000 {built-in method value}\n",
      "      127    0.002    0.000    0.003    0.000 _weakrefset.py:85(add)\n",
      "      127    0.003    0.000    0.003    0.000 {built-in method posix.stat}\n",
      "      567    0.002    0.000    0.003    0.000 <frozen posixpath>:41(_get_sep)\n",
      "        4    0.000    0.000    0.003    0.001 _compiler.py:573(_code)\n",
      "      256    0.002    0.000    0.002    0.000 <frozen codecs>:309(__init__)\n",
      "      127    0.002    0.000    0.002    0.000 threading.py:811(_newname)\n",
      "     1292    0.002    0.000    0.002    0.000 glob.py:229(_ishidden)\n",
      "      256    0.001    0.000    0.002    0.000 contextlib.py:359(__exit__)\n",
      "      767    0.002    0.000    0.002    0.000 {built-in method _codecs.utf_8_decode}\n",
      "      128    0.001    0.000    0.002    0.000 <frozen os>:756(encode)\n",
      "      127    0.002    0.000    0.002    0.000 threading.py:1324(_make_invoke_excepthook)\n",
      "      127    0.001    0.000    0.002    0.000 threading.py:271(__enter__)\n",
      "      127    0.001    0.000    0.002    0.000 threading.py:283(_acquire_restore)\n",
      "      127    0.001    0.000    0.002    0.000 threading.py:1453(current_thread)\n",
      "      259    0.001    0.000    0.002    0.000 {built-in method builtins.next}\n",
      "        1    0.000    0.000    0.002    0.002 {built-in method builtins.print}\n",
      "        2    0.000    0.000    0.002    0.001 iostream.py:624(write)\n",
      "      127    0.001    0.000    0.002    0.000 threading.py:286(_is_owned)\n",
      "      127    0.001    0.000    0.001    0.000 threading.py:274(__exit__)\n",
      "        2    0.000    0.000    0.001    0.001 iostream.py:546(_schedule_flush)\n",
      "      255    0.001    0.000    0.001    0.000 parser.py:81(__init__)\n",
      "        1    0.000    0.000    0.001    0.001 iostream.py:258(schedule)\n",
      "      255    0.001    0.000    0.001    0.000 resolver.py:21(__init__)\n",
      "      127    0.001    0.000    0.001    0.000 {built-in method setAlignment}\n",
      "      765    0.001    0.000    0.001    0.000 <frozen codecs>:331(getstate)\n",
      "        1    0.001    0.001    0.001    0.001 socket.py:621(send)\n",
      "      543    0.001    0.000    0.001    0.000 {method 'startswith' of 'str' objects}\n",
      "      254    0.001    0.000    0.001    0.000 {built-in method _thread.allocate_lock}\n",
      "      151    0.001    0.000    0.001    0.000 {built-in method builtins.min}\n",
      "      255    0.001    0.000    0.001    0.000 events.py:46(__init__)\n",
      "        4    0.000    0.000    0.001    0.000 _compiler.py:511(_compile_info)\n",
      "      255    0.001    0.000    0.001    0.000 events.py:22(__init__)\n",
      "      255    0.001    0.000    0.001    0.000 {method 'update' of 'dict' objects}\n",
      "      128    0.001    0.000    0.001    0.000 <frozen os>:760(decode)\n",
      "       72    0.000    0.000    0.001    0.000 glob.py:222(has_magic)\n",
      "     12/4    0.001    0.000    0.001    0.000 _compiler.py:37(_compile)\n",
      "      256    0.001    0.000    0.001    0.000 {method 'close' of 'generator' objects}\n",
      "      255    0.001    0.000    0.001    0.000 {built-in method builtins.getattr}\n",
      "      127    0.001    0.000    0.001    0.000 threading.py:280(_release_save)\n",
      "      543    0.001    0.000    0.001    0.000 {method 'endswith' of 'str' objects}\n",
      "       24    0.001    0.000    0.001    0.000 <frozen posixpath>:100(split)\n",
      "      255    0.001    0.000    0.001    0.000 parser.py:89(dispose)\n",
      "     1044    0.001    0.000    0.001    0.000 {method 'is_dir' of 'posix.DirEntry' objects}\n",
      "      510    0.001    0.000    0.001    0.000 events.py:5(__init__)\n",
      "        4    0.001    0.000    0.001    0.000 fnmatch.py:74(translate)\n",
      "      695    0.001    0.000    0.001    0.000 {built-in method posix.fspath}\n",
      "      255    0.001    0.000    0.001    0.000 tokens.py:33(__init__)\n",
      "      255    0.001    0.000    0.001    0.000 nodes.py:36(__init__)\n",
      "      127    0.001    0.000    0.001    0.000 {method 'add' of 'set' objects}\n",
      "      255    0.001    0.000    0.001    0.000 events.py:37(__init__)\n",
      "      127    0.001    0.000    0.001    0.000 threading.py:1206(daemon)\n",
      "      128    0.000    0.000    0.001    0.000 <frozen posixpath>:52(normcase)\n",
      "      127    0.001    0.000    0.001    0.000 {method '__enter__' of '_thread.lock' objects}\n",
      "      256    0.001    0.000    0.001    0.000 contextlib.py:355(__init__)\n",
      "      256    0.001    0.000    0.001    0.000 <frozen codecs>:260(__init__)\n",
      "       82    0.000    0.000    0.001    0.000 _parser.py:168(__getitem__)\n",
      "      128    0.001    0.000    0.001    0.000 {method 'encode' of 'str' objects}\n",
      "      248    0.000    0.000    0.000    0.000 {method '__exit__' of 'posix.ScandirIterator' objects}\n",
      "       12    0.000    0.000    0.000    0.000 glob.py:31(iglob)\n",
      "      255    0.000    0.000    0.000    0.000 events.py:55(__init__)\n",
      "        1    0.000    0.000    0.000    0.000 {built-in method verticalScrollBar}\n",
      "     12/4    0.000    0.000    0.000    0.000 _parser.py:178(getwidth)\n",
      "      127    0.000    0.000    0.000    0.000 {built-in method _thread.get_ident}\n",
      "      255    0.000    0.000    0.000    0.000 composer.py:13(__init__)\n",
      "      128    0.000    0.000    0.000    0.000 {method 'decode' of 'bytes' objects}\n",
      "        8    0.000    0.000    0.000    0.000 enum.py:1515(__and__)\n",
      "       41    0.000    0.000    0.000    0.000 _parser.py:261(get)\n",
      "      129    0.000    0.000    0.000    0.000 {method '__exit__' of '_thread.RLock' objects}\n",
      "      127    0.000    0.000    0.000    0.000 {method '__exit__' of '_thread.lock' objects}\n",
      "      256    0.000    0.000    0.000    0.000 contextlib.py:357(__enter__)\n",
      "        4    0.000    0.000    0.000    0.000 {built-in method key}\n",
      "       53    0.000    0.000    0.000    0.000 _parser.py:240(__next)\n",
      "       48    0.000    0.000    0.000    0.000 glob.py:232(_isrecursive)\n",
      "      8/4    0.000    0.000    0.000    0.000 _compiler.py:436(_get_literal_prefix)\n",
      "      128    0.000    0.000    0.000    0.000 {method 'append' of 'collections.deque' objects}\n",
      "      127    0.000    0.000    0.000    0.000 {method 'release' of '_thread.lock' objects}\n",
      "       17    0.000    0.000    0.000    0.000 __init__.py:253(escape)\n",
      "        8    0.000    0.000    0.000    0.000 enum.py:686(__call__)\n",
      "        8    0.000    0.000    0.000    0.000 _parser.py:376(_escape)\n",
      "      128    0.000    0.000    0.000    0.000 threading.py:575(is_set)\n",
      "        1    0.000    0.000    0.000    0.000 {method 'readlines' of '_io._IOBase' objects}\n",
      "        4    0.000    0.000    0.000    0.000 _parser.py:231(__init__)\n",
      "        4    0.000    0.000    0.000    0.000 _compiler.py:467(_get_charset_prefix)\n",
      "        4    0.000    0.000    0.000    0.000 _compiler.py:398(_simple)\n",
      "       29    0.000    0.000    0.000    0.000 _parser.py:176(append)\n",
      "        4    0.000    0.000    0.000    0.000 _parser.py:903(_parse_flags)\n",
      "       24    0.000    0.000    0.000    0.000 _parser.py:256(match)\n",
      "       24    0.000    0.000    0.000    0.000 {method 'rfind' of 'str' objects}\n",
      "       16    0.000    0.000    0.000    0.000 _parser.py:293(tell)\n",
      "       20    0.000    0.000    0.000    0.000 _parser.py:164(__len__)\n",
      "        4    0.000    0.000    0.000    0.000 _parser.py:77(__init__)\n",
      "       17    0.000    0.000    0.000    0.000 {method 'translate' of 'str' objects}\n",
      "        1    0.000    0.000    0.000    0.000 <frozen abc>:121(__subclasscheck__)\n",
      "        1    0.000    0.000    0.000    0.000 {built-in method _abc._abc_subclasscheck}\n",
      "        8    0.000    0.000    0.000    0.000 _parser.py:83(groups)\n",
      "       12    0.000    0.000    0.000    0.000 _compiler.py:31(_combine_flags)\n",
      "        8    0.000    0.000    0.000    0.000 enum.py:1093(__new__)\n",
      "        4    0.000    0.000    0.000    0.000 _parser.py:963(fix_flags)\n",
      "       12    0.000    0.000    0.000    0.000 _parser.py:113(__init__)\n",
      "       24    0.000    0.000    0.000    0.000 {method 'rstrip' of 'str' objects}\n",
      "       12    0.000    0.000    0.000    0.000 _compiler.py:428(_get_iscased)\n",
      "        1    0.000    0.000    0.000    0.000 core.py:12(<listcomp>)\n",
      "        2    0.000    0.000    0.000    0.000 iostream.py:519(_is_master_process)\n",
      "        8    0.000    0.000    0.000    0.000 _compiler.py:570(isstring)\n",
      "        4    0.000    0.000    0.000    0.000 {built-in method _sre.compile}\n",
      "       24    0.000    0.000    0.000    0.000 {built-in method sys.audit}\n",
      "        1    0.000    0.000    0.000    0.000 threading.py:1192(is_alive)\n",
      "        1    0.000    0.000    0.000    0.000 {built-in method sys.exit}\n",
      "        7    0.000    0.000    0.000    0.000 {method 'strip' of 'str' objects}\n",
      "        4    0.000    0.000    0.000    0.000 {built-in method builtins.iter}\n",
      "        2    0.000    0.000    0.000    0.000 {method 'write' of '_io.StringIO' objects}\n",
      "        1    0.000    0.000    0.000    0.000 {built-in method setWindowTitle}\n",
      "        1    0.000    0.000    0.000    0.000 <frozen _collections_abc>:98(__subclasshook__)\n",
      "        1    0.000    0.000    0.000    0.000 {built-in method setGeometry}\n",
      "       17    0.000    0.000    0.000    0.000 {built-in method builtins.ord}\n",
      "        2    0.000    0.000    0.000    0.000 {built-in method posix.getpid}\n",
      "        1    0.000    0.000    0.000    0.000 core.py:4(__init__)\n",
      "        4    0.000    0.000    0.000    0.000 _parser.py:172(__setitem__)\n",
      "        1    0.000    0.000    0.000    0.000 {built-in method setWidgetResizable}\n",
      "        1    0.000    0.000    0.000    0.000 <frozen _collections_abc>:78(_check_methods)\n",
      "        1    0.000    0.000    0.000    0.000 threading.py:1125(_wait_for_tstate_lock)\n",
      "        4    0.000    0.000    0.000    0.000 {method 'items' of 'dict' objects}\n",
      "        1    0.000    0.000    0.000    0.000 iostream.py:137(_event_pipe)\n",
      "        2    0.000    0.000    0.000    0.000 {built-in method time.time}\n",
      "        1    0.000    0.000    0.000    0.000 {method 'disable' of '_lsprof.Profiler' objects}\n",
      "\n",
      "\n"
     ]
    },
    {
     "data": {
      "text/plain": [
       "<pstats.Stats at 0x7c23c8679f10>"
      ]
     },
     "execution_count": 17,
     "metadata": {},
     "output_type": "execute_result"
    }
   ],
   "source": [
    "import cProfile\n",
    "import pstats\n",
    "import sys\n",
    "# Create a function to run your application\n",
    "def run_app():\n",
    "    app = QApplication(sys.argv)\n",
    "    core=Core()\n",
    "    gallery_app = ImageGalleryApp(core.getImagesPaths())\n",
    "    sys.exit(app.exec_())\n",
    "\n",
    "# Profile the run_app function\n",
    "cProfile.run('run_app()', 'gallery_profile')\n",
    "\n",
    "stats = pstats.Stats('gallery_profile')\n",
    "stats.strip_dirs()\n",
    "stats.sort_stats('cumulative')\n",
    "stats.print_stats()\n"
   ]
  },
  {
   "cell_type": "code",
   "execution_count": null,
   "id": "09f2c27d-9c41-45b5-a08d-226410c4fc30",
   "metadata": {},
   "outputs": [],
   "source": []
  },
  {
   "cell_type": "code",
   "execution_count": null,
   "id": "24e565d9-349a-4b9b-abea-754549a7d7db",
   "metadata": {},
   "outputs": [],
   "source": []
  },
  {
   "cell_type": "code",
   "execution_count": null,
   "id": "16b0b939-b38f-476d-b0b3-4a704c96f53f",
   "metadata": {},
   "outputs": [],
   "source": []
  },
  {
   "cell_type": "code",
   "execution_count": null,
   "id": "65e209e0-9a06-4e75-99ea-bf4390f8d8bf",
   "metadata": {},
   "outputs": [],
   "source": []
  },
  {
   "cell_type": "code",
   "execution_count": null,
   "id": "bad40095-a7f3-4221-82d8-902c53f45dde",
   "metadata": {},
   "outputs": [],
   "source": []
  },
  {
   "cell_type": "code",
   "execution_count": null,
   "id": "841ded1e-41b8-49e0-b119-f10fbe927a8a",
   "metadata": {},
   "outputs": [],
   "source": []
  },
  {
   "cell_type": "code",
   "execution_count": null,
   "id": "5d7b4837-3970-40cb-9721-7b8ea5800d7e",
   "metadata": {},
   "outputs": [],
   "source": []
  },
  {
   "cell_type": "code",
   "execution_count": null,
   "id": "536a7182-9423-4628-90df-6bb2cf455f10",
   "metadata": {},
   "outputs": [],
   "source": []
  },
  {
   "cell_type": "code",
   "execution_count": null,
   "id": "bbaef986-dd3e-4216-8e55-ac3c559ff68a",
   "metadata": {},
   "outputs": [],
   "source": []
  },
  {
   "cell_type": "code",
   "execution_count": null,
   "id": "3cb1f200-950a-4fc3-867d-947f7a947a79",
   "metadata": {},
   "outputs": [],
   "source": []
  },
  {
   "cell_type": "code",
   "execution_count": null,
   "id": "d2462164-6c6f-4872-aa21-d156ef94733c",
   "metadata": {},
   "outputs": [],
   "source": []
  },
  {
   "cell_type": "code",
   "execution_count": null,
   "id": "226b7f37-6482-438c-b266-7f38db029239",
   "metadata": {},
   "outputs": [],
   "source": []
  },
  {
   "cell_type": "code",
   "execution_count": null,
   "id": "1200c8a3-6cb0-407e-8cd7-f400c14b2815",
   "metadata": {},
   "outputs": [],
   "source": []
  },
  {
   "cell_type": "code",
   "execution_count": null,
   "id": "422ca34b-2d48-448d-8782-df4e4110d851",
   "metadata": {},
   "outputs": [],
   "source": [
    "Nautilus-Share-Message: 08:17:44.018: Called \"net usershare info\" but it failed: Failed to execute child process “net” (No such file or directory)"
   ]
  },
  {
   "cell_type": "code",
   "execution_count": null,
   "id": "233e02bd-feec-4c67-a188-520c80c57be5",
   "metadata": {},
   "outputs": [],
   "source": [
    "\n"
   ]
  },
  {
   "cell_type": "code",
   "execution_count": null,
   "id": "581b6921-526c-40b3-997c-9104f44f19c5",
   "metadata": {},
   "outputs": [],
   "source": []
  },
  {
   "cell_type": "code",
   "execution_count": null,
   "id": "08980c20-13ff-438b-b1c7-01062b7725d9",
   "metadata": {},
   "outputs": [],
   "source": []
  },
  {
   "cell_type": "code",
   "execution_count": null,
   "id": "b4b5b9ef-441b-4dec-98ec-636d19cc5e2f",
   "metadata": {},
   "outputs": [],
   "source": [
    "\n"
   ]
  },
  {
   "cell_type": "code",
   "execution_count": null,
   "id": "21529a30-ac66-4dfb-9cfc-ad970f62f905",
   "metadata": {},
   "outputs": [],
   "source": []
  },
  {
   "cell_type": "code",
   "execution_count": null,
   "id": "601b8b5f-07eb-40d1-8373-be1e3b9e92f4",
   "metadata": {},
   "outputs": [],
   "source": []
  },
  {
   "cell_type": "code",
   "execution_count": null,
   "id": "9ef25bc7-15f8-4cab-9f4f-62e2067c8a9d",
   "metadata": {},
   "outputs": [],
   "source": []
  },
  {
   "cell_type": "code",
   "execution_count": null,
   "id": "fa8c3fe2-fe21-4ad2-b52f-b92168e4acd1",
   "metadata": {},
   "outputs": [],
   "source": []
  },
  {
   "cell_type": "code",
   "execution_count": null,
   "id": "76850e62-c09d-4abc-8509-3ea78218ce4e",
   "metadata": {},
   "outputs": [],
   "source": []
  },
  {
   "cell_type": "code",
   "execution_count": null,
   "id": "de06dcf3-696f-4c2e-afb3-5d4635a01911",
   "metadata": {},
   "outputs": [],
   "source": []
  },
  {
   "cell_type": "code",
   "execution_count": null,
   "id": "9b8d595a-647e-4242-aaa7-05f28fcb20ce",
   "metadata": {},
   "outputs": [],
   "source": []
  },
  {
   "cell_type": "code",
   "execution_count": null,
   "id": "d9252904-1338-4fb6-84c9-5a46bb1dd8a2",
   "metadata": {},
   "outputs": [],
   "source": []
  },
  {
   "cell_type": "code",
   "execution_count": null,
   "id": "4c5f9747-05fa-43b2-97d9-292e702f42e3",
   "metadata": {},
   "outputs": [],
   "source": []
  },
  {
   "cell_type": "code",
   "execution_count": null,
   "id": "4118a045-fa15-4257-b17f-560c1397c734",
   "metadata": {},
   "outputs": [],
   "source": []
  },
  {
   "cell_type": "code",
   "execution_count": null,
   "id": "b13157d2-ab41-4bb6-b965-b542ac834fb3",
   "metadata": {},
   "outputs": [],
   "source": []
  },
  {
   "cell_type": "code",
   "execution_count": null,
   "id": "fca3ccd0-310f-45f3-9685-cf26cec4fa76",
   "metadata": {},
   "outputs": [],
   "source": []
  },
  {
   "cell_type": "code",
   "execution_count": null,
   "id": "fef7939e-538a-4b93-97ac-772bc7e0076c",
   "metadata": {},
   "outputs": [],
   "source": []
  },
  {
   "cell_type": "code",
   "execution_count": null,
   "id": "5cb56047-cd1d-4e39-a509-91b90a5ea8fd",
   "metadata": {},
   "outputs": [],
   "source": []
  },
  {
   "cell_type": "code",
   "execution_count": null,
   "id": "b21952e2-c9c6-4ac0-9444-e32bcd135a23",
   "metadata": {},
   "outputs": [],
   "source": []
  },
  {
   "cell_type": "code",
   "execution_count": null,
   "id": "fb57dd94-1d1f-4811-8eb9-1ff8cf6bc902",
   "metadata": {},
   "outputs": [],
   "source": []
  },
  {
   "cell_type": "code",
   "execution_count": null,
   "id": "32c90eae-f512-4cc0-9686-ea242cf6deae",
   "metadata": {},
   "outputs": [],
   "source": []
  },
  {
   "cell_type": "code",
   "execution_count": null,
   "id": "38034b9d-b790-4641-aaa9-87de101871fd",
   "metadata": {},
   "outputs": [],
   "source": []
  },
  {
   "cell_type": "code",
   "execution_count": null,
   "id": "7ae87720-7a49-4f31-9884-09cae403a188",
   "metadata": {},
   "outputs": [],
   "source": []
  },
  {
   "cell_type": "code",
   "execution_count": null,
   "id": "42452cb2-1dfb-4b14-9aed-e82c2ebc4c05",
   "metadata": {},
   "outputs": [],
   "source": []
  },
  {
   "cell_type": "code",
   "execution_count": null,
   "id": "6708fb9b-d966-496d-80f5-2e21016968aa",
   "metadata": {},
   "outputs": [],
   "source": []
  },
  {
   "cell_type": "code",
   "execution_count": null,
   "id": "ad3ea831-2c04-4017-a3fe-775c1c557ede",
   "metadata": {},
   "outputs": [],
   "source": []
  },
  {
   "cell_type": "code",
   "execution_count": null,
   "id": "adc8a5b2-6de8-4198-b905-8c74470183f0",
   "metadata": {},
   "outputs": [],
   "source": []
  },
  {
   "cell_type": "code",
   "execution_count": null,
   "id": "b01dc236-7c3a-457c-bf90-6b22e6e4685a",
   "metadata": {},
   "outputs": [],
   "source": []
  },
  {
   "cell_type": "code",
   "execution_count": null,
   "id": "b4ba9286-c8c0-4b76-9aa3-ac840127931d",
   "metadata": {},
   "outputs": [],
   "source": []
  },
  {
   "cell_type": "code",
   "execution_count": null,
   "id": "fdc17682-8a83-4ba3-bd10-e4fc4b8cdc16",
   "metadata": {},
   "outputs": [],
   "source": []
  },
  {
   "cell_type": "code",
   "execution_count": null,
   "id": "c67ad36f-ac1e-492a-bcc1-801b3c6147ea",
   "metadata": {},
   "outputs": [],
   "source": []
  },
  {
   "cell_type": "code",
   "execution_count": null,
   "id": "8ad595ea-38f7-4964-ab64-2d47e40293ea",
   "metadata": {},
   "outputs": [],
   "source": []
  },
  {
   "cell_type": "code",
   "execution_count": null,
   "id": "7e23fe00-a6b9-441a-9290-c12795654705",
   "metadata": {},
   "outputs": [],
   "source": []
  },
  {
   "cell_type": "code",
   "execution_count": null,
   "id": "49a52471-78f3-415a-8d82-cb1a4c1cc07e",
   "metadata": {},
   "outputs": [],
   "source": []
  },
  {
   "cell_type": "code",
   "execution_count": null,
   "id": "8595994a-4d3f-4d87-ae33-33108f82810f",
   "metadata": {},
   "outputs": [],
   "source": []
  },
  {
   "cell_type": "code",
   "execution_count": null,
   "id": "f611cd8b-8dde-4c40-af0f-89ef51f174b8",
   "metadata": {},
   "outputs": [],
   "source": []
  },
  {
   "cell_type": "code",
   "execution_count": null,
   "id": "876b722c-36b9-492b-a002-ed496a98abdb",
   "metadata": {},
   "outputs": [],
   "source": []
  },
  {
   "cell_type": "code",
   "execution_count": null,
   "id": "3c257925-eb80-4ebd-acbb-5760963ce8bd",
   "metadata": {},
   "outputs": [],
   "source": []
  },
  {
   "cell_type": "code",
   "execution_count": null,
   "id": "6dac77a1",
   "metadata": {},
   "outputs": [],
   "source": []
  },
  {
   "cell_type": "code",
   "execution_count": null,
   "id": "c7f47ddf",
   "metadata": {},
   "outputs": [],
   "source": []
  },
  {
   "cell_type": "code",
   "execution_count": null,
   "id": "18ecef96",
   "metadata": {},
   "outputs": [],
   "source": []
  },
  {
   "cell_type": "code",
   "execution_count": null,
   "id": "8915ac8e",
   "metadata": {},
   "outputs": [],
   "source": []
  },
  {
   "cell_type": "code",
   "execution_count": null,
   "id": "c3743955",
   "metadata": {},
   "outputs": [],
   "source": []
  },
  {
   "cell_type": "code",
   "execution_count": null,
   "id": "41a17a3b",
   "metadata": {},
   "outputs": [],
   "source": []
  },
  {
   "cell_type": "code",
   "execution_count": null,
   "id": "2f649e67-882c-4ef7-be61-75edd5d3d383",
   "metadata": {},
   "outputs": [],
   "source": []
  },
  {
   "cell_type": "code",
   "execution_count": null,
   "id": "789cf8fd-b242-4a9b-bb7e-8fbb11571557",
   "metadata": {},
   "outputs": [],
   "source": []
  },
  {
   "cell_type": "code",
   "execution_count": null,
   "id": "d6bd31ea-a7a1-42d1-8e22-b938e3819cec",
   "metadata": {},
   "outputs": [],
   "source": []
  },
  {
   "cell_type": "code",
   "execution_count": null,
   "id": "723325ac-f267-40ba-9975-82c6bd2cdff0",
   "metadata": {},
   "outputs": [],
   "source": []
  },
  {
   "cell_type": "code",
   "execution_count": null,
   "id": "47e6f554-1641-4543-9311-bd4e21ea8178",
   "metadata": {},
   "outputs": [],
   "source": []
  },
  {
   "cell_type": "code",
   "execution_count": null,
   "id": "ccb38f41-44b7-4c65-ae29-a94b87b77536",
   "metadata": {},
   "outputs": [],
   "source": []
  },
  {
   "cell_type": "code",
   "execution_count": null,
   "id": "088fd724-770d-4217-b93b-c61939f2a673",
   "metadata": {},
   "outputs": [],
   "source": []
  },
  {
   "cell_type": "code",
   "execution_count": null,
   "id": "39ddc5a7-bf3a-43d5-84a1-5ef6b2e8b0ed",
   "metadata": {},
   "outputs": [],
   "source": []
  },
  {
   "cell_type": "code",
   "execution_count": null,
   "id": "b51beaf1-646b-44e4-b5d0-0964c1b63c0e",
   "metadata": {},
   "outputs": [],
   "source": []
  },
  {
   "cell_type": "code",
   "execution_count": null,
   "id": "923a3c6b-141d-4d93-8c97-64c5c4037df0",
   "metadata": {},
   "outputs": [],
   "source": []
  },
  {
   "cell_type": "code",
   "execution_count": null,
   "id": "d00cbeaa",
   "metadata": {},
   "outputs": [],
   "source": [
    "#fix error: qt.gui.icc: fromIccProfile: failed minimal tag size sanity\n",
    "#stackoverflow Q 65463848\n",
    "#careful as better monitors are capable of color space better that sRGB \n",
    "#and converting all images into sRGB may take away from color ranges\n",
    "#make it go through 1 pass while classifying images\n",
    "import io\n",
    "from PIL import Image, ImageCms\n",
    "\n",
    "def convert_to_srgb(file_path):\n",
    "    \"\"\"\n",
    "    Convert PIL image to sRGB color space (if possible)\n",
    "    and save the converted file.\n",
    "    \"\"\"\n",
    "    img = Image.open(file_path)\n",
    "    icc = img.info.get('icc_profile', '')\n",
    "    icc_conv = ''\n",
    "\n",
    "    if icc:\n",
    "        io_handle = io.BytesIO(icc)     # virtual file\n",
    "        src_profile = ImageCms.ImageCmsProfile(io_handle)\n",
    "        dst_profile = ImageCms.createProfile('sRGB')\n",
    "        img_conv = ImageCms.profileToProfile(img, src_profile, dst_profile)\n",
    "        icc_conv = img_conv.info.get('icc_profile','')\n",
    "\n",
    "    if icc != icc_conv:\n",
    "        # ICC profile was changed -> save converted file\n",
    "        img_conv.save(file_path,\n",
    "                    format = 'JPEG',\n",
    "                    quality = 100,\n",
    "                    icc_profile = icc_conv)\n",
    "        \n",
    "files=glob.glob(f\"/media/mgama1/mgama1/photos/**/*.jpeg\",recursive=True)\n",
    "for file in files:\n",
    "    convert_to_srgb(file)"
   ]
  },
  {
   "cell_type": "code",
   "execution_count": 3,
   "id": "996cb421",
   "metadata": {},
   "outputs": [
    {
     "name": "stdout",
     "output_type": "stream",
     "text": [
      "Warning: Ignoring XDG_SESSION_TYPE=wayland on Gnome. Use QT_QPA_PLATFORM=wayland to run on Wayland anyway.\n",
      "libGL error: MESA-LOADER: failed to open iris: /usr/lib/dri/iris_dri.so: cannot open shared object file: No such file or directory (search paths /usr/lib/x86_64-linux-gnu/dri:\\$${ORIGIN}/dri:/usr/lib/dri, suffix _dri)\n",
      "libGL error: failed to load driver: iris\n",
      "libGL error: MESA-LOADER: failed to open swrast: /usr/lib/dri/swrast_dri.so: cannot open shared object file: No such file or directory (search paths /usr/lib/x86_64-linux-gnu/dri:\\$${ORIGIN}/dri:/usr/lib/dri, suffix _dri)\n",
      "libGL error: failed to load driver: swrast\n"
     ]
    }
   ],
   "source": [
    "!qta-browser"
   ]
  },
  {
   "cell_type": "code",
   "execution_count": null,
   "id": "05bec1b9",
   "metadata": {},
   "outputs": [],
   "source": [
    "\n"
   ]
  },
  {
   "cell_type": "code",
   "execution_count": null,
   "id": "94f7f7be",
   "metadata": {},
   "outputs": [],
   "source": []
  },
  {
   "cell_type": "code",
   "execution_count": null,
   "id": "992923db",
   "metadata": {},
   "outputs": [],
   "source": []
  },
  {
   "cell_type": "code",
   "execution_count": null,
   "id": "454c699e",
   "metadata": {},
   "outputs": [],
   "source": []
  },
  {
   "cell_type": "code",
   "execution_count": null,
   "id": "893e9fa2",
   "metadata": {},
   "outputs": [],
   "source": []
  },
  {
   "cell_type": "code",
   "execution_count": null,
   "id": "9da74eb3",
   "metadata": {},
   "outputs": [],
   "source": []
  },
  {
   "cell_type": "code",
   "execution_count": null,
   "id": "599579da",
   "metadata": {},
   "outputs": [],
   "source": []
  },
  {
   "cell_type": "code",
   "execution_count": null,
   "id": "4ef315e2",
   "metadata": {},
   "outputs": [],
   "source": []
  },
  {
   "cell_type": "code",
   "execution_count": null,
   "id": "dbd09483",
   "metadata": {},
   "outputs": [],
   "source": []
  },
  {
   "cell_type": "code",
   "execution_count": null,
   "id": "fa83e5ba",
   "metadata": {},
   "outputs": [],
   "source": []
  },
  {
   "cell_type": "code",
   "execution_count": null,
   "id": "677677a7",
   "metadata": {},
   "outputs": [],
   "source": []
  },
  {
   "cell_type": "code",
   "execution_count": null,
   "id": "f20bde4b",
   "metadata": {},
   "outputs": [],
   "source": []
  },
  {
   "cell_type": "code",
   "execution_count": null,
   "id": "64e38526",
   "metadata": {},
   "outputs": [],
   "source": []
  },
  {
   "cell_type": "code",
   "execution_count": null,
   "id": "876bc1d4",
   "metadata": {},
   "outputs": [],
   "source": []
  },
  {
   "cell_type": "code",
   "execution_count": null,
   "id": "5765ebe2",
   "metadata": {},
   "outputs": [],
   "source": []
  },
  {
   "cell_type": "code",
   "execution_count": null,
   "id": "17fa7232",
   "metadata": {},
   "outputs": [],
   "source": []
  },
  {
   "cell_type": "code",
   "execution_count": null,
   "id": "9d158a48",
   "metadata": {},
   "outputs": [],
   "source": []
  },
  {
   "cell_type": "code",
   "execution_count": null,
   "id": "cbc5ddfd",
   "metadata": {},
   "outputs": [],
   "source": []
  },
  {
   "cell_type": "code",
   "execution_count": null,
   "id": "051e7b66",
   "metadata": {},
   "outputs": [],
   "source": []
  },
  {
   "cell_type": "code",
   "execution_count": null,
   "id": "ec6a4bdf",
   "metadata": {},
   "outputs": [],
   "source": []
  },
  {
   "cell_type": "code",
   "execution_count": null,
   "id": "2bfbd5fa",
   "metadata": {},
   "outputs": [],
   "source": []
  },
  {
   "cell_type": "code",
   "execution_count": null,
   "id": "4e3168dd",
   "metadata": {},
   "outputs": [],
   "source": []
  },
  {
   "cell_type": "code",
   "execution_count": null,
   "id": "40017186",
   "metadata": {},
   "outputs": [],
   "source": []
  },
  {
   "cell_type": "code",
   "execution_count": null,
   "id": "98569417",
   "metadata": {},
   "outputs": [],
   "source": []
  },
  {
   "cell_type": "code",
   "execution_count": null,
   "id": "47e168b4",
   "metadata": {},
   "outputs": [],
   "source": []
  },
  {
   "cell_type": "code",
   "execution_count": null,
   "id": "cde1c0cc",
   "metadata": {},
   "outputs": [],
   "source": []
  },
  {
   "cell_type": "code",
   "execution_count": null,
   "id": "bc84d4ec",
   "metadata": {},
   "outputs": [],
   "source": []
  },
  {
   "cell_type": "code",
   "execution_count": null,
   "id": "cdb58951",
   "metadata": {},
   "outputs": [],
   "source": []
  },
  {
   "cell_type": "code",
   "execution_count": null,
   "id": "6eb32db9",
   "metadata": {},
   "outputs": [],
   "source": []
  },
  {
   "cell_type": "code",
   "execution_count": null,
   "id": "ff4c188a",
   "metadata": {
    "scrolled": true
   },
   "outputs": [],
   "source": []
  },
  {
   "cell_type": "code",
   "execution_count": null,
   "id": "46491e8d",
   "metadata": {},
   "outputs": [],
   "source": []
  },
  {
   "cell_type": "code",
   "execution_count": null,
   "id": "05fddbff",
   "metadata": {},
   "outputs": [],
   "source": []
  },
  {
   "cell_type": "code",
   "execution_count": null,
   "id": "2aed5af1",
   "metadata": {},
   "outputs": [],
   "source": []
  },
  {
   "cell_type": "code",
   "execution_count": null,
   "id": "79cfe90c",
   "metadata": {},
   "outputs": [],
   "source": []
  },
  {
   "cell_type": "code",
   "execution_count": null,
   "id": "9d5d3333",
   "metadata": {},
   "outputs": [],
   "source": []
  },
  {
   "cell_type": "code",
   "execution_count": null,
   "id": "3ca6d510",
   "metadata": {},
   "outputs": [],
   "source": []
  },
  {
   "cell_type": "code",
   "execution_count": null,
   "id": "c4fc0c6f",
   "metadata": {},
   "outputs": [],
   "source": []
  },
  {
   "cell_type": "code",
   "execution_count": null,
   "id": "7155a508",
   "metadata": {},
   "outputs": [],
   "source": []
  },
  {
   "cell_type": "code",
   "execution_count": null,
   "id": "71353d44",
   "metadata": {},
   "outputs": [],
   "source": []
  },
  {
   "cell_type": "code",
   "execution_count": null,
   "id": "33816717",
   "metadata": {},
   "outputs": [],
   "source": []
  },
  {
   "cell_type": "code",
   "execution_count": null,
   "id": "062d0737",
   "metadata": {},
   "outputs": [],
   "source": []
  },
  {
   "cell_type": "code",
   "execution_count": null,
   "id": "71e17078",
   "metadata": {},
   "outputs": [],
   "source": []
  },
  {
   "cell_type": "code",
   "execution_count": null,
   "id": "7906a2a8",
   "metadata": {},
   "outputs": [],
   "source": []
  },
  {
   "cell_type": "code",
   "execution_count": null,
   "id": "e7bfd1fa",
   "metadata": {},
   "outputs": [],
   "source": []
  },
  {
   "cell_type": "code",
   "execution_count": null,
   "id": "f3210e3a",
   "metadata": {},
   "outputs": [],
   "source": []
  },
  {
   "cell_type": "code",
   "execution_count": null,
   "id": "ac062b10",
   "metadata": {},
   "outputs": [],
   "source": []
  },
  {
   "cell_type": "code",
   "execution_count": null,
   "id": "2a65849f",
   "metadata": {},
   "outputs": [],
   "source": []
  },
  {
   "cell_type": "code",
   "execution_count": null,
   "id": "1b25d9d3",
   "metadata": {},
   "outputs": [],
   "source": []
  },
  {
   "cell_type": "code",
   "execution_count": null,
   "id": "a0840fc3",
   "metadata": {},
   "outputs": [],
   "source": []
  },
  {
   "cell_type": "code",
   "execution_count": null,
   "id": "34585a19",
   "metadata": {},
   "outputs": [],
   "source": []
  },
  {
   "cell_type": "code",
   "execution_count": null,
   "id": "73ee208b",
   "metadata": {},
   "outputs": [],
   "source": []
  },
  {
   "cell_type": "code",
   "execution_count": null,
   "id": "1f24ae1f",
   "metadata": {},
   "outputs": [],
   "source": []
  },
  {
   "cell_type": "code",
   "execution_count": null,
   "id": "334efb5b",
   "metadata": {},
   "outputs": [],
   "source": []
  },
  {
   "cell_type": "code",
   "execution_count": null,
   "id": "6a600810",
   "metadata": {},
   "outputs": [],
   "source": []
  },
  {
   "cell_type": "code",
   "execution_count": null,
   "id": "a4f11b8d",
   "metadata": {},
   "outputs": [],
   "source": []
  },
  {
   "cell_type": "code",
   "execution_count": null,
   "id": "d47d7f86",
   "metadata": {},
   "outputs": [],
   "source": []
  },
  {
   "cell_type": "code",
   "execution_count": null,
   "id": "9c3f1e08",
   "metadata": {},
   "outputs": [],
   "source": []
  },
  {
   "cell_type": "code",
   "execution_count": null,
   "id": "6d1d94ea",
   "metadata": {},
   "outputs": [],
   "source": []
  },
  {
   "cell_type": "code",
   "execution_count": null,
   "id": "705aee7f",
   "metadata": {},
   "outputs": [],
   "source": []
  },
  {
   "cell_type": "code",
   "execution_count": null,
   "id": "480a46dc",
   "metadata": {},
   "outputs": [],
   "source": []
  },
  {
   "cell_type": "code",
   "execution_count": null,
   "id": "9083a0e4",
   "metadata": {},
   "outputs": [],
   "source": []
  },
  {
   "cell_type": "code",
   "execution_count": null,
   "id": "7bcee678",
   "metadata": {},
   "outputs": [],
   "source": []
  },
  {
   "cell_type": "code",
   "execution_count": null,
   "id": "6c976df1",
   "metadata": {},
   "outputs": [],
   "source": []
  },
  {
   "cell_type": "code",
   "execution_count": null,
   "id": "23d70488",
   "metadata": {},
   "outputs": [],
   "source": []
  },
  {
   "cell_type": "code",
   "execution_count": null,
   "id": "c18a8518",
   "metadata": {},
   "outputs": [],
   "source": []
  },
  {
   "cell_type": "code",
   "execution_count": null,
   "id": "651313df",
   "metadata": {},
   "outputs": [],
   "source": []
  },
  {
   "cell_type": "code",
   "execution_count": null,
   "id": "8a55bce3",
   "metadata": {},
   "outputs": [],
   "source": []
  },
  {
   "cell_type": "code",
   "execution_count": null,
   "id": "9e2f09c5",
   "metadata": {},
   "outputs": [],
   "source": []
  },
  {
   "cell_type": "code",
   "execution_count": null,
   "id": "0ede32fa",
   "metadata": {},
   "outputs": [],
   "source": []
  },
  {
   "cell_type": "code",
   "execution_count": null,
   "id": "3f38a4b0",
   "metadata": {},
   "outputs": [],
   "source": []
  },
  {
   "cell_type": "code",
   "execution_count": null,
   "id": "83ed84ad",
   "metadata": {},
   "outputs": [],
   "source": [
    "def crop(image,x=0,y=0,w=200 ,h=200):\n",
    "    return image[y:y+h, x:x+w]\n"
   ]
  },
  {
   "cell_type": "code",
   "execution_count": null,
   "id": "0fa119dc",
   "metadata": {},
   "outputs": [],
   "source": []
  },
  {
   "cell_type": "code",
   "execution_count": null,
   "id": "ce8bc4fe",
   "metadata": {},
   "outputs": [],
   "source": []
  },
  {
   "cell_type": "code",
   "execution_count": null,
   "id": "1e6082fb",
   "metadata": {},
   "outputs": [],
   "source": []
  },
  {
   "cell_type": "code",
   "execution_count": null,
   "id": "7de75421",
   "metadata": {},
   "outputs": [],
   "source": []
  },
  {
   "cell_type": "code",
   "execution_count": null,
   "id": "d32e14cd",
   "metadata": {},
   "outputs": [],
   "source": []
  },
  {
   "cell_type": "code",
   "execution_count": null,
   "id": "086d28fd",
   "metadata": {},
   "outputs": [],
   "source": []
  },
  {
   "cell_type": "code",
   "execution_count": null,
   "id": "510b8d05",
   "metadata": {},
   "outputs": [],
   "source": []
  },
  {
   "cell_type": "code",
   "execution_count": null,
   "id": "07783cfd",
   "metadata": {},
   "outputs": [],
   "source": [
    "import glob\n",
    "dirfilesnames=(glob.glob(\"./cats/*\"))\n",
    "hash1 = imagehash.average_hash(Image.open('cat.jpg'))\n",
    "\n",
    "hashdic={}\n",
    "for filename in dirfilesnames:\n",
    "    hashdic.update({filename:imagehash.average_hash(Image.open(filename))})\n",
    "\n",
    "for hkey in hashdic:\n",
    "    if (hash1-hashdic[hkey])<34:\n",
    "        print(hkey)\n",
    "    \n"
   ]
  },
  {
   "cell_type": "code",
   "execution_count": null,
   "id": "04376d56",
   "metadata": {},
   "outputs": [],
   "source": []
  },
  {
   "cell_type": "code",
   "execution_count": null,
   "id": "d17843a0",
   "metadata": {},
   "outputs": [],
   "source": []
  },
  {
   "cell_type": "code",
   "execution_count": null,
   "id": "7fef1a26",
   "metadata": {},
   "outputs": [],
   "source": [
    "\n"
   ]
  },
  {
   "cell_type": "code",
   "execution_count": null,
   "id": "0e370e64",
   "metadata": {},
   "outputs": [],
   "source": []
  },
  {
   "cell_type": "code",
   "execution_count": null,
   "id": "8e8f6cc8",
   "metadata": {},
   "outputs": [],
   "source": []
  },
  {
   "cell_type": "code",
   "execution_count": null,
   "id": "3bcad150",
   "metadata": {},
   "outputs": [],
   "source": []
  },
  {
   "cell_type": "code",
   "execution_count": null,
   "id": "2f6f4ce8",
   "metadata": {},
   "outputs": [],
   "source": []
  },
  {
   "cell_type": "code",
   "execution_count": null,
   "id": "35bcb2cd",
   "metadata": {},
   "outputs": [],
   "source": []
  },
  {
   "cell_type": "code",
   "execution_count": null,
   "id": "0d36d94a",
   "metadata": {},
   "outputs": [],
   "source": []
  },
  {
   "cell_type": "code",
   "execution_count": null,
   "id": "214e5b35",
   "metadata": {},
   "outputs": [],
   "source": []
  },
  {
   "cell_type": "code",
   "execution_count": null,
   "id": "afe60848",
   "metadata": {},
   "outputs": [],
   "source": []
  },
  {
   "cell_type": "code",
   "execution_count": null,
   "id": "cbdc5646",
   "metadata": {},
   "outputs": [],
   "source": []
  },
  {
   "cell_type": "code",
   "execution_count": null,
   "id": "09e5b831",
   "metadata": {},
   "outputs": [],
   "source": []
  },
  {
   "cell_type": "code",
   "execution_count": null,
   "id": "c118078b",
   "metadata": {},
   "outputs": [],
   "source": []
  },
  {
   "cell_type": "code",
   "execution_count": null,
   "id": "e0c9241b",
   "metadata": {},
   "outputs": [],
   "source": []
  },
  {
   "cell_type": "code",
   "execution_count": null,
   "id": "17bfb417",
   "metadata": {},
   "outputs": [],
   "source": []
  },
  {
   "cell_type": "code",
   "execution_count": null,
   "id": "ed7e4850",
   "metadata": {},
   "outputs": [],
   "source": []
  },
  {
   "cell_type": "code",
   "execution_count": null,
   "id": "dec465ae",
   "metadata": {},
   "outputs": [],
   "source": []
  },
  {
   "cell_type": "code",
   "execution_count": null,
   "id": "9e1c5174",
   "metadata": {},
   "outputs": [],
   "source": []
  },
  {
   "cell_type": "code",
   "execution_count": null,
   "id": "39e70a2e",
   "metadata": {},
   "outputs": [],
   "source": []
  },
  {
   "cell_type": "code",
   "execution_count": null,
   "id": "79c93a27",
   "metadata": {},
   "outputs": [],
   "source": []
  },
  {
   "cell_type": "code",
   "execution_count": null,
   "id": "9989fa93",
   "metadata": {},
   "outputs": [],
   "source": []
  },
  {
   "cell_type": "code",
   "execution_count": null,
   "id": "81fdfe55",
   "metadata": {},
   "outputs": [],
   "source": []
  },
  {
   "cell_type": "code",
   "execution_count": null,
   "id": "86c289e6",
   "metadata": {},
   "outputs": [],
   "source": []
  },
  {
   "cell_type": "code",
   "execution_count": null,
   "id": "47407dbe",
   "metadata": {},
   "outputs": [],
   "source": []
  },
  {
   "cell_type": "code",
   "execution_count": null,
   "id": "2fb27816",
   "metadata": {},
   "outputs": [],
   "source": []
  },
  {
   "cell_type": "code",
   "execution_count": null,
   "id": "52c7e60a",
   "metadata": {},
   "outputs": [],
   "source": []
  },
  {
   "cell_type": "code",
   "execution_count": null,
   "id": "1f8cefa2",
   "metadata": {
    "scrolled": true
   },
   "outputs": [],
   "source": []
  },
  {
   "cell_type": "code",
   "execution_count": null,
   "id": "faae802a",
   "metadata": {},
   "outputs": [],
   "source": []
  },
  {
   "cell_type": "code",
   "execution_count": null,
   "id": "79a7802b",
   "metadata": {},
   "outputs": [],
   "source": []
  },
  {
   "cell_type": "code",
   "execution_count": null,
   "id": "de300e6e",
   "metadata": {},
   "outputs": [],
   "source": []
  },
  {
   "cell_type": "code",
   "execution_count": null,
   "id": "4a41a2ae",
   "metadata": {},
   "outputs": [],
   "source": []
  },
  {
   "cell_type": "code",
   "execution_count": null,
   "id": "ddbbf6a3",
   "metadata": {},
   "outputs": [],
   "source": []
  },
  {
   "cell_type": "code",
   "execution_count": null,
   "id": "b4a5b5be",
   "metadata": {},
   "outputs": [],
   "source": []
  },
  {
   "cell_type": "code",
   "execution_count": null,
   "id": "c71b912e",
   "metadata": {},
   "outputs": [],
   "source": [
    "\n"
   ]
  },
  {
   "cell_type": "code",
   "execution_count": null,
   "id": "67a8d1d8",
   "metadata": {},
   "outputs": [],
   "source": []
  },
  {
   "cell_type": "code",
   "execution_count": null,
   "id": "aae108d3",
   "metadata": {},
   "outputs": [],
   "source": []
  },
  {
   "cell_type": "code",
   "execution_count": null,
   "id": "8a8b751f",
   "metadata": {},
   "outputs": [],
   "source": []
  },
  {
   "cell_type": "code",
   "execution_count": null,
   "id": "331300f5",
   "metadata": {},
   "outputs": [],
   "source": []
  },
  {
   "cell_type": "code",
   "execution_count": null,
   "id": "6479c89e",
   "metadata": {},
   "outputs": [],
   "source": [
    "import numpy as np\n",
    "import plotly.graph_objects as go\n",
    "from matplotlib.colors import rgb2hex\n",
    "#I don't know about you but i don't wanna plot the whole 286,832 pixel\n",
    "#so let's just take a sample\n",
    "sample_indices = np.random.choice(np.arange(pixels.shape[0]), size=2000, replace=False)\n",
    "sampled_pixels = pixels[sample_indices]\n",
    "points = sampled_pixels  \n",
    "\n",
    "# Create a colormap based on RGB values\n",
    "colors = [rgb2hex(rgb / 255) for rgb in points]\n",
    "\n",
    "# Format RGB values as strings\n",
    "rgb_strings = [f\"R: {int(rgb[0])}, G: {int(rgb[1])}, B: {int(rgb[2])}\" for rgb in points]\n",
    "\n",
    "# Create a scatter plot with smaller points, colored by RGB values, and RGB values as hover text\n",
    "fig = go.Figure(data=[go.Scatter3d(\n",
    "    x=points[:, 0],\n",
    "    y=points[:, 1],\n",
    "    z=points[:, 2],\n",
    "    mode='markers',\n",
    "    marker=dict(size=3, color=colors),  # Color points based on RGB values\n",
    "    text=rgb_strings,  # Use RGB values as hover text\n",
    ")])\n",
    "\n",
    "fig.update_layout(scene=dict(\n",
    "    xaxis_title='R',\n",
    "    yaxis_title='G',\n",
    "    zaxis_title='B')\n",
    "    )\n",
    "\n",
    "fig.show()\n"
   ]
  },
  {
   "cell_type": "code",
   "execution_count": null,
   "id": "d7a98759",
   "metadata": {},
   "outputs": [],
   "source": []
  },
  {
   "cell_type": "code",
   "execution_count": null,
   "id": "bf131700",
   "metadata": {
    "scrolled": true
   },
   "outputs": [],
   "source": []
  },
  {
   "cell_type": "code",
   "execution_count": null,
   "id": "96b726a1",
   "metadata": {},
   "outputs": [],
   "source": []
  },
  {
   "cell_type": "code",
   "execution_count": null,
   "id": "5e20078a",
   "metadata": {},
   "outputs": [],
   "source": []
  },
  {
   "cell_type": "code",
   "execution_count": null,
   "id": "52de9fb1",
   "metadata": {},
   "outputs": [],
   "source": []
  },
  {
   "cell_type": "code",
   "execution_count": null,
   "id": "7029696b",
   "metadata": {},
   "outputs": [],
   "source": []
  },
  {
   "cell_type": "code",
   "execution_count": null,
   "id": "bb7f7ec8",
   "metadata": {},
   "outputs": [],
   "source": [
    "import rembg\n",
    "import cv2\n",
    "import numpy as np\n",
    "img=cv2.imread(\"../Cat_August_2010-4.jpg\")\n",
    "mask = rembg.remove(img,only_mask=True)\n",
    "mask_3c=cv2.merge([mask,mask,mask])\n",
    "\n",
    "# Read the images\n",
    "foreground = np.copy(img).astype(float)\n",
    "background = cv2.blur(img,(9,9)).astype(float)\n",
    "alpha = mask_3c\n",
    "\n",
    "# Normalize the alpha mask to keep intensity between 0 and 1\n",
    "alpha = alpha.astype(float)/255\n",
    "\n",
    "# Multiply the foreground with the alpha matte\n",
    "foreground = cv2.multiply(alpha, foreground)/255\n",
    "\n",
    "# Multiply the background with ( 1 - alpha )\n",
    "background = cv2.multiply(1.0 - alpha, background)/255\n",
    "\n",
    "# Add the masked foreground and background.\n",
    "outImage = cv2.add(foreground, background)\n",
    "outImage = (outImage * 255).astype(np.uint8)\n",
    "\n",
    "display(outImage,100)\n"
   ]
  },
  {
   "cell_type": "code",
   "execution_count": null,
   "id": "4291540e",
   "metadata": {},
   "outputs": [],
   "source": []
  },
  {
   "cell_type": "code",
   "execution_count": null,
   "id": "51724a50",
   "metadata": {},
   "outputs": [],
   "source": []
  },
  {
   "cell_type": "code",
   "execution_count": null,
   "id": "f5bfe01e",
   "metadata": {},
   "outputs": [],
   "source": [
    "def display(image,scale_percent=50):\n",
    "    \n",
    "    width = int(image.shape[1] * scale_percent / 100)\n",
    "    height = int(image.shape[0] * scale_percent / 100)\n",
    "    dim = (width, height)\n",
    "  \n",
    "    resized = cv2.resize(image, dim, interpolation = cv2.INTER_AREA)\n",
    "\n",
    "    cv2.imshow('display', resized) \n",
    "    cv2.waitKey(0)   \n",
    "    cv2.destroyAllWindows()"
   ]
  },
  {
   "cell_type": "code",
   "execution_count": null,
   "id": "77a06890",
   "metadata": {},
   "outputs": [],
   "source": []
  },
  {
   "cell_type": "code",
   "execution_count": null,
   "id": "d3815354",
   "metadata": {},
   "outputs": [],
   "source": []
  },
  {
   "cell_type": "markdown",
   "id": "c041a7df",
   "metadata": {
    "jp-MarkdownHeadingCollapsed": true
   },
   "source": [
    "# Backlog\n",
    "\n",
    "- delete bug\n",
    "- refactoring essentials\n",
    "- \n",
    "\n"
   ]
  },
  {
   "cell_type": "markdown",
   "id": "5216955f",
   "metadata": {
    "jp-MarkdownHeadingCollapsed": true
   },
   "source": [
    "# phase 2\n",
    "- text ocr\n",
    "- object detection and decoding of qr code\n",
    "- equations to latex\n",
    "- Encrypted folder"
   ]
  },
  {
   "cell_type": "markdown",
   "id": "7552923f",
   "metadata": {},
   "source": [
    "# phase 3\n",
    "- line_profiler and memory_profiler\n",
    "- better models:  multilabel classification - Blip Image Captioning - one shot learning (needs a lot of convineint data)"
   ]
  },
  {
   "cell_type": "code",
   "execution_count": null,
   "id": "b4416c1c",
   "metadata": {},
   "outputs": [],
   "source": []
  },
  {
   "cell_type": "code",
   "execution_count": null,
   "id": "95c59c34",
   "metadata": {},
   "outputs": [],
   "source": []
  },
  {
   "cell_type": "code",
   "execution_count": null,
   "id": "6369773f",
   "metadata": {},
   "outputs": [],
   "source": []
  },
  {
   "cell_type": "code",
   "execution_count": null,
   "id": "e9981124",
   "metadata": {},
   "outputs": [],
   "source": [
    "import subprocess\n",
    "\n",
    "def set_background(image_path):\n",
    "    command = [\"gsettings\", \"set\", \"org.gnome.desktop.background\", \"picture-uri\", f\"{image_path}\"]\n",
    "    subprocess.run(command, check=True)\n",
    "\n",
    "image_path = \"/media/mgama1/mgama1/photos/190529-N-XD935-010X.jpeg\"\n",
    "set_background(image_path)\n"
   ]
  },
  {
   "cell_type": "code",
   "execution_count": null,
   "id": "902ef7bf",
   "metadata": {},
   "outputs": [],
   "source": [
    "import os\n",
    "\n",
    "def set_background(image_path):\n",
    "    command = f\"gsettings set org.gnome.desktop.background picture-uri file://{image_path}\"\n",
    "    os.system(command)\n",
    "    \n",
    "# Example usage\n",
    "set_background(image_path)\n"
   ]
  },
  {
   "cell_type": "code",
   "execution_count": null,
   "id": "535465e2",
   "metadata": {},
   "outputs": [],
   "source": []
  },
  {
   "cell_type": "code",
   "execution_count": null,
   "id": "8b2e3408",
   "metadata": {},
   "outputs": [],
   "source": []
  }
 ],
 "metadata": {
  "kernelspec": {
   "display_name": "Python 3 (ipykernel)",
   "language": "python",
   "name": "python3"
  },
  "language_info": {
   "codemirror_mode": {
    "name": "ipython",
    "version": 3
   },
   "file_extension": ".py",
   "mimetype": "text/x-python",
   "name": "python",
   "nbconvert_exporter": "python",
   "pygments_lexer": "ipython3",
   "version": "3.11.7"
  },
  "widgets": {
   "application/vnd.jupyter.widget-state+json": {
    "state": {},
    "version_major": 2,
    "version_minor": 0
   }
  }
 },
 "nbformat": 4,
 "nbformat_minor": 5
}
